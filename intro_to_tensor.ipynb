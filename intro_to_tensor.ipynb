{
  "nbformat": 4,
  "nbformat_minor": 0,
  "metadata": {
    "colab": {
      "provenance": [],
      "gpuType": "T4",
      "authorship_tag": "ABX9TyNd4gyF3JoRzZ3rcXfh8Ihz",
      "include_colab_link": true
    },
    "kernelspec": {
      "name": "python3",
      "display_name": "Python 3"
    },
    "language_info": {
      "name": "python"
    },
    "accelerator": "GPU"
  },
  "cells": [
    {
      "cell_type": "markdown",
      "metadata": {
        "id": "view-in-github",
        "colab_type": "text"
      },
      "source": [
        "<a href=\"https://colab.research.google.com/github/Isha0711/PyTorch-for-Deep-Learning/blob/main/intro_to_tensor.ipynb\" target=\"_parent\"><img src=\"https://colab.research.google.com/assets/colab-badge.svg\" alt=\"Open In Colab\"/></a>"
      ]
    },
    {
      "cell_type": "markdown",
      "source": [
        "## 00. PyTorch Fundamentals\n",
        "- popular research deep learning framework\n",
        "- write fast deep learning codes in python\n",
        "- aids transfer learning\n",
        "- whole stack: pre processes data, model data, deploy model in your application/cloud"
      ],
      "metadata": {
        "id": "kytApRrfnQHT"
      }
    },
    {
      "cell_type": "code",
      "execution_count": 1,
      "metadata": {
        "colab": {
          "base_uri": "https://localhost:8080/"
        },
        "id": "KofT1hwekx2k",
        "outputId": "d67d5fe4-f310-4c99-e66b-5d364f41a923"
      },
      "outputs": [
        {
          "output_type": "stream",
          "name": "stdout",
          "text": [
            "Hello I am excited to learn PyTorch!\n"
          ]
        }
      ],
      "source": [
        "print(\"Hello I am excited to learn PyTorch!\")"
      ]
    },
    {
      "cell_type": "code",
      "source": [
        "import torch\n",
        "import pandas as pd\n",
        "import numpy as np\n",
        "import matplotlib.pyplot as plt\n",
        "print(torch.__version__)"
      ],
      "metadata": {
        "colab": {
          "base_uri": "https://localhost:8080/"
        },
        "id": "AwVJ1ywBl8ea",
        "outputId": "4f2f73ba-87b8-4e1c-dc66-6bda574c2a12"
      },
      "execution_count": 2,
      "outputs": [
        {
          "output_type": "stream",
          "name": "stdout",
          "text": [
            "2.1.0+cu121\n"
          ]
        }
      ]
    },
    {
      "cell_type": "markdown",
      "source": [],
      "metadata": {
        "id": "Sb7T0RzroN8D"
      }
    },
    {
      "cell_type": "markdown",
      "source": [
        "##Introduction to tensors\n",
        "\n",
        "###Creating sensors\n",
        "\n",
        "PyTorch tensors are created using 'torch.Tensor()'\n"
      ],
      "metadata": {
        "id": "6sjPBZFboJE4"
      }
    },
    {
      "cell_type": "code",
      "source": [
        "#scalar\n",
        "scalar= torch.tensor(7)\n",
        "scalar"
      ],
      "metadata": {
        "colab": {
          "base_uri": "https://localhost:8080/"
        },
        "id": "Jq0qafihoLeO",
        "outputId": "2bbfa6ce-5a68-4e6b-8048-5419d25ab512"
      },
      "execution_count": 3,
      "outputs": [
        {
          "output_type": "execute_result",
          "data": {
            "text/plain": [
              "tensor(7)"
            ]
          },
          "metadata": {},
          "execution_count": 3
        }
      ]
    },
    {
      "cell_type": "code",
      "source": [
        "scalar.ndim"
      ],
      "metadata": {
        "colab": {
          "base_uri": "https://localhost:8080/"
        },
        "id": "TZp4Q8IXo42c",
        "outputId": "722143e6-dd96-47cb-9784-da1b53bd3186"
      },
      "execution_count": 4,
      "outputs": [
        {
          "output_type": "execute_result",
          "data": {
            "text/plain": [
              "0"
            ]
          },
          "metadata": {},
          "execution_count": 4
        }
      ]
    },
    {
      "cell_type": "code",
      "source": [
        "#get tensor back as python int\n",
        "scalar.item()"
      ],
      "metadata": {
        "colab": {
          "base_uri": "https://localhost:8080/"
        },
        "id": "IWqrmeWlpOrW",
        "outputId": "88393a0b-82f0-4326-9c98-20a19b7c9671"
      },
      "execution_count": 5,
      "outputs": [
        {
          "output_type": "execute_result",
          "data": {
            "text/plain": [
              "7"
            ]
          },
          "metadata": {},
          "execution_count": 5
        }
      ]
    },
    {
      "cell_type": "code",
      "source": [
        "#vector\n",
        "vector= torch.tensor([7,7])\n",
        "vector"
      ],
      "metadata": {
        "colab": {
          "base_uri": "https://localhost:8080/"
        },
        "id": "7h266I5Qph1w",
        "outputId": "e5be2da9-7964-46df-b78f-f5dd70ddaed6"
      },
      "execution_count": 6,
      "outputs": [
        {
          "output_type": "execute_result",
          "data": {
            "text/plain": [
              "tensor([7, 7])"
            ]
          },
          "metadata": {},
          "execution_count": 6
        }
      ]
    },
    {
      "cell_type": "code",
      "source": [
        "vector.ndim"
      ],
      "metadata": {
        "colab": {
          "base_uri": "https://localhost:8080/"
        },
        "id": "N1i2HfcypuVn",
        "outputId": "e5161516-8450-4cff-ea72-3245e1dac7ee"
      },
      "execution_count": 7,
      "outputs": [
        {
          "output_type": "execute_result",
          "data": {
            "text/plain": [
              "1"
            ]
          },
          "metadata": {},
          "execution_count": 7
        }
      ]
    },
    {
      "cell_type": "code",
      "source": [
        "vector.shape"
      ],
      "metadata": {
        "colab": {
          "base_uri": "https://localhost:8080/"
        },
        "id": "tTkYg-Tipy75",
        "outputId": "b8fee6da-d63e-44e7-f63c-64983ae77b27"
      },
      "execution_count": 8,
      "outputs": [
        {
          "output_type": "execute_result",
          "data": {
            "text/plain": [
              "torch.Size([2])"
            ]
          },
          "metadata": {},
          "execution_count": 8
        }
      ]
    },
    {
      "cell_type": "code",
      "source": [
        "#matrix\n",
        "MATRIX= torch.tensor([[7,8],\n",
        "                      [9,10]])\n",
        "MATRIX"
      ],
      "metadata": {
        "colab": {
          "base_uri": "https://localhost:8080/"
        },
        "id": "hJ71p0MLp2oo",
        "outputId": "f6db8e04-1d83-40c5-9454-942222839baf"
      },
      "execution_count": 9,
      "outputs": [
        {
          "output_type": "execute_result",
          "data": {
            "text/plain": [
              "tensor([[ 7,  8],\n",
              "        [ 9, 10]])"
            ]
          },
          "metadata": {},
          "execution_count": 9
        }
      ]
    },
    {
      "cell_type": "code",
      "source": [
        "MATRIX.ndim"
      ],
      "metadata": {
        "colab": {
          "base_uri": "https://localhost:8080/"
        },
        "id": "0MUtuLvdqK0T",
        "outputId": "e152f91f-6b9f-4a10-ceaf-0683ea363c58"
      },
      "execution_count": 10,
      "outputs": [
        {
          "output_type": "execute_result",
          "data": {
            "text/plain": [
              "2"
            ]
          },
          "metadata": {},
          "execution_count": 10
        }
      ]
    },
    {
      "cell_type": "code",
      "source": [
        "MATRIX.shape\n"
      ],
      "metadata": {
        "colab": {
          "base_uri": "https://localhost:8080/"
        },
        "id": "VgJsf8cTqK8Y",
        "outputId": "251535b6-fb75-4b6c-f58e-b7f5f84251ba"
      },
      "execution_count": 11,
      "outputs": [
        {
          "output_type": "execute_result",
          "data": {
            "text/plain": [
              "torch.Size([2, 2])"
            ]
          },
          "metadata": {},
          "execution_count": 11
        }
      ]
    },
    {
      "cell_type": "code",
      "source": [
        "#TENSOR\n",
        "TENSOR = torch.tensor([[[1,2,3],[3,6,9],[2,4,5]]])\n",
        "TENSOR"
      ],
      "metadata": {
        "colab": {
          "base_uri": "https://localhost:8080/"
        },
        "id": "RNJel-mPqbvb",
        "outputId": "8cf39f74-92ad-45f2-8711-57619d685fb4"
      },
      "execution_count": 12,
      "outputs": [
        {
          "output_type": "execute_result",
          "data": {
            "text/plain": [
              "tensor([[[1, 2, 3],\n",
              "         [3, 6, 9],\n",
              "         [2, 4, 5]]])"
            ]
          },
          "metadata": {},
          "execution_count": 12
        }
      ]
    },
    {
      "cell_type": "code",
      "source": [
        "TENSOR.size"
      ],
      "metadata": {
        "colab": {
          "base_uri": "https://localhost:8080/"
        },
        "id": "k8bUD-c2sUN-",
        "outputId": "ad69ae53-e097-427f-af95-0bee1faaf3d5"
      },
      "execution_count": 13,
      "outputs": [
        {
          "output_type": "execute_result",
          "data": {
            "text/plain": [
              "<function Tensor.size>"
            ]
          },
          "metadata": {},
          "execution_count": 13
        }
      ]
    },
    {
      "cell_type": "markdown",
      "source": [
        "##Random tensors\n",
        "\n",
        "why random tensors?\n",
        "\n",
        "Random tensors are important because the way many neural networks learn is that they start with tensors full of random numbers and then adjus those random numbers to better represent the data.\n",
        "\n",
        "'start with random numbers -> look at data -> update random numbers -> look at data -> update random numbers\n",
        "\n",
        "\n"
      ],
      "metadata": {
        "id": "_70CtHM9t_Y2"
      }
    },
    {
      "cell_type": "code",
      "source": [
        "#create a random tensor of size (3,4)\n",
        "random_tensor = torch.rand(3,4)\n",
        "random_tensor"
      ],
      "metadata": {
        "colab": {
          "base_uri": "https://localhost:8080/"
        },
        "id": "9AyfWrd2vTBH",
        "outputId": "292a2f1a-c811-4c1a-c902-297cf0af0916"
      },
      "execution_count": 14,
      "outputs": [
        {
          "output_type": "execute_result",
          "data": {
            "text/plain": [
              "tensor([[0.4632, 0.4795, 0.9900, 0.1212],\n",
              "        [0.9467, 0.6329, 0.2368, 0.4736],\n",
              "        [0.6332, 0.1709, 0.0466, 0.0472]])"
            ]
          },
          "metadata": {},
          "execution_count": 14
        }
      ]
    },
    {
      "cell_type": "code",
      "source": [
        "#create a random tensor with similar shape to an image tensor\n",
        "random_image_size_tensor= torch.rand(size=(3,224,224)) #color channels (R,G,B), height,width,color channels (R,G,B)\n",
        "random_image_size_tensor.shape, random_image_size_tensor.ndim"
      ],
      "metadata": {
        "colab": {
          "base_uri": "https://localhost:8080/"
        },
        "id": "9hqo5H2-vhDB",
        "outputId": "a504a810-7489-4d3d-adbc-d43077d5d48a"
      },
      "execution_count": 15,
      "outputs": [
        {
          "output_type": "execute_result",
          "data": {
            "text/plain": [
              "(torch.Size([3, 224, 224]), 3)"
            ]
          },
          "metadata": {},
          "execution_count": 15
        }
      ]
    },
    {
      "cell_type": "code",
      "source": [
        "torch.rand(size=(3,3))"
      ],
      "metadata": {
        "colab": {
          "base_uri": "https://localhost:8080/"
        },
        "id": "sXrHsU7Ewu17",
        "outputId": "1bf921ba-5022-4e5c-ea06-42dbfd04ea36"
      },
      "execution_count": 16,
      "outputs": [
        {
          "output_type": "execute_result",
          "data": {
            "text/plain": [
              "tensor([[0.6745, 0.9477, 0.2567],\n",
              "        [0.0136, 0.7298, 0.2924],\n",
              "        [0.0759, 0.6437, 0.0933]])"
            ]
          },
          "metadata": {},
          "execution_count": 16
        }
      ]
    },
    {
      "cell_type": "code",
      "source": [],
      "metadata": {
        "id": "bjnNUPFCw9Lm"
      },
      "execution_count": 16,
      "outputs": []
    },
    {
      "cell_type": "markdown",
      "source": [
        "##Zeros and Ones\n"
      ],
      "metadata": {
        "id": "5vftgJK-w_5D"
      }
    },
    {
      "cell_type": "code",
      "source": [
        "#create a tensor of all zeroes\n",
        "zeros = torch.zeros(size = (3,4))\n",
        "zeros\n",
        ""
      ],
      "metadata": {
        "colab": {
          "base_uri": "https://localhost:8080/"
        },
        "id": "-X2oTuwcxDP_",
        "outputId": "7fade40f-aab9-4fbf-8097-d456492eabda"
      },
      "execution_count": 17,
      "outputs": [
        {
          "output_type": "execute_result",
          "data": {
            "text/plain": [
              "tensor([[0., 0., 0., 0.],\n",
              "        [0., 0., 0., 0.],\n",
              "        [0., 0., 0., 0.]])"
            ]
          },
          "metadata": {},
          "execution_count": 17
        }
      ]
    },
    {
      "cell_type": "code",
      "source": [
        "#create a tensor of all ones\n",
        "ones= torch.ones(size = (3,4))\n",
        "ones"
      ],
      "metadata": {
        "colab": {
          "base_uri": "https://localhost:8080/"
        },
        "id": "4zDjXkZ_xONV",
        "outputId": "3aef6af3-2f1a-43d2-d967-a6fe8540b502"
      },
      "execution_count": 18,
      "outputs": [
        {
          "output_type": "execute_result",
          "data": {
            "text/plain": [
              "tensor([[1., 1., 1., 1.],\n",
              "        [1., 1., 1., 1.],\n",
              "        [1., 1., 1., 1.]])"
            ]
          },
          "metadata": {},
          "execution_count": 18
        }
      ]
    },
    {
      "cell_type": "code",
      "source": [
        "ones.dtype"
      ],
      "metadata": {
        "colab": {
          "base_uri": "https://localhost:8080/"
        },
        "id": "UGqt8125xWM8",
        "outputId": "1a6934ec-c6a3-4440-f42f-5cd3ef4eab8a"
      },
      "execution_count": 19,
      "outputs": [
        {
          "output_type": "execute_result",
          "data": {
            "text/plain": [
              "torch.float32"
            ]
          },
          "metadata": {},
          "execution_count": 19
        }
      ]
    },
    {
      "cell_type": "markdown",
      "source": [
        "##Creating a range of tensors and tensors-like\n",
        "\n"
      ],
      "metadata": {
        "id": "Y4pNkAe6K51H"
      }
    },
    {
      "cell_type": "code",
      "source": [
        "#use torch.range()\n",
        "one_to_ten=torch.arange(start=0,end=1000,step=100)\n",
        "one_to_ten"
      ],
      "metadata": {
        "colab": {
          "base_uri": "https://localhost:8080/"
        },
        "id": "AEyTlZdaxav8",
        "outputId": "343a794f-24ec-454d-8833-aa209b0805f7"
      },
      "execution_count": 20,
      "outputs": [
        {
          "output_type": "execute_result",
          "data": {
            "text/plain": [
              "tensor([  0, 100, 200, 300, 400, 500, 600, 700, 800, 900])"
            ]
          },
          "metadata": {},
          "execution_count": 20
        }
      ]
    },
    {
      "cell_type": "code",
      "source": [
        "#creating tensors like\n",
        "ten_zeroes= torch.zeros_like(input=one_to_ten)\n",
        "ten_zeroes"
      ],
      "metadata": {
        "colab": {
          "base_uri": "https://localhost:8080/"
        },
        "id": "wN53QSfjLL8y",
        "outputId": "93cca9a8-e651-4d17-ccfe-a70924c32e14"
      },
      "execution_count": 21,
      "outputs": [
        {
          "output_type": "execute_result",
          "data": {
            "text/plain": [
              "tensor([0, 0, 0, 0, 0, 0, 0, 0, 0, 0])"
            ]
          },
          "metadata": {},
          "execution_count": 21
        }
      ]
    },
    {
      "cell_type": "markdown",
      "source": [
        "###Tensor datatypes\n",
        "Default=torch.float32\n",
        "(also called single precision floating point)\n",
        "Most commonly used is 32 and 16-bit floating point(also called half precision floating point.it is less precise but fast)\n",
        "\n"
      ],
      "metadata": {
        "id": "HRYGcejTMsdX"
      }
    },
    {
      "cell_type": "code",
      "source": [
        "#Float 32 tensor for default case\n",
        "float_32_tensor= torch.tensor([3.0,6.0,9.0])\n",
        "float_32_tensor"
      ],
      "metadata": {
        "colab": {
          "base_uri": "https://localhost:8080/"
        },
        "id": "q4KmXqBPMrJf",
        "outputId": "b1f993ba-5a55-4e3a-d585-659be54cf82a"
      },
      "execution_count": 23,
      "outputs": [
        {
          "output_type": "execute_result",
          "data": {
            "text/plain": [
              "tensor([3., 6., 9.])"
            ]
          },
          "metadata": {},
          "execution_count": 23
        }
      ]
    },
    {
      "cell_type": "markdown",
      "source": [
        "Tensor datatypes can include errors due to:\n",
        "- Not right datatype\n",
        "- Not right shape\n",
        "- Not on the right device"
      ],
      "metadata": {
        "id": "uRYhOe6IOZe5"
      }
    },
    {
      "cell_type": "code",
      "source": [
        "#Float 32 tensor\n",
        "float_32_tensor= torch.tensor([3.0,6.0,9.0],\n",
        "                              dtype=None, #what datatype is the tensor\n",
        "                              device=None, #by default is CPU, could be gpu(cuda)too\n",
        "                              requires_grad=False #whether or not to track gradients with this tensor operation\n",
        "                              )\n",
        "\n",
        "float_32_tensor"
      ],
      "metadata": {
        "colab": {
          "base_uri": "https://localhost:8080/"
        },
        "id": "SZugmoeaMgJ9",
        "outputId": "1e02d32b-0497-4bc7-a5d9-40ccd2cf2480"
      },
      "execution_count": 25,
      "outputs": [
        {
          "output_type": "execute_result",
          "data": {
            "text/plain": [
              "tensor([3., 6., 9.])"
            ]
          },
          "metadata": {},
          "execution_count": 25
        }
      ]
    },
    {
      "cell_type": "code",
      "source": [
        "float_32_tensor.dtype"
      ],
      "metadata": {
        "colab": {
          "base_uri": "https://localhost:8080/"
        },
        "id": "t-j-uOb4Mr3F",
        "outputId": "0460a93c-3cbd-4e45-9d15-18e3840e3a9b"
      },
      "execution_count": 26,
      "outputs": [
        {
          "output_type": "execute_result",
          "data": {
            "text/plain": [
              "torch.float32"
            ]
          },
          "metadata": {},
          "execution_count": 26
        }
      ]
    },
    {
      "cell_type": "code",
      "source": [
        "#converting float 32 tensor to float 16 tensor\n",
        "float_16_tensor = float_32_tensor.type(torch.float16)\n",
        "float_16_tensor"
      ],
      "metadata": {
        "colab": {
          "base_uri": "https://localhost:8080/"
        },
        "id": "ZFKXIpXKPUVU",
        "outputId": "67ec7176-2f34-4693-f1de-388f624115fd"
      },
      "execution_count": 28,
      "outputs": [
        {
          "output_type": "execute_result",
          "data": {
            "text/plain": [
              "tensor([3., 6., 9.], dtype=torch.float16)"
            ]
          },
          "metadata": {},
          "execution_count": 28
        }
      ]
    },
    {
      "cell_type": "code",
      "source": [
        "float_16_tensor * float_32_tensor"
      ],
      "metadata": {
        "colab": {
          "base_uri": "https://localhost:8080/"
        },
        "id": "b_RHhM_aPbuv",
        "outputId": "d9960cb4-c492-470f-c3a6-ea302fe7af00"
      },
      "execution_count": 29,
      "outputs": [
        {
          "output_type": "execute_result",
          "data": {
            "text/plain": [
              "tensor([ 9., 36., 81.])"
            ]
          },
          "metadata": {},
          "execution_count": 29
        }
      ]
    },
    {
      "cell_type": "code",
      "source": [
        "float_32_tensor.dtype"
      ],
      "metadata": {
        "colab": {
          "base_uri": "https://localhost:8080/"
        },
        "id": "iPIyECqcodNc",
        "outputId": "9a5a6c90-db4e-4296-8dbc-93ac1934934c"
      },
      "execution_count": 30,
      "outputs": [
        {
          "output_type": "execute_result",
          "data": {
            "text/plain": [
              "torch.float32"
            ]
          },
          "metadata": {},
          "execution_count": 30
        }
      ]
    },
    {
      "cell_type": "code",
      "source": [
        "float_16_tensor.dtype"
      ],
      "metadata": {
        "colab": {
          "base_uri": "https://localhost:8080/"
        },
        "id": "_wKflIrRoqVM",
        "outputId": "ef3d4206-4ce2-44f1-de96-82f2806bf198"
      },
      "execution_count": 31,
      "outputs": [
        {
          "output_type": "execute_result",
          "data": {
            "text/plain": [
              "torch.float16"
            ]
          },
          "metadata": {},
          "execution_count": 31
        }
      ]
    },
    {
      "cell_type": "markdown",
      "source": [
        "#Getting information from tensors(Tensor attributes)\n",
        "\n",
        "- Not right datatype:  to get the datatype from a tensor, use 'tensor.dtype'\n",
        "- Not right shape - to get shape from a tensor, use 'tensor.shape'\n",
        "- Not on the right device - to get device from a tensor, use 'tensor.device'"
      ],
      "metadata": {
        "id": "ZiysXAdipFAv"
      }
    },
    {
      "cell_type": "code",
      "source": [
        "#create a tensor\n",
        "some_tensor=torch.rand(3,4)\n",
        "some_tensor"
      ],
      "metadata": {
        "colab": {
          "base_uri": "https://localhost:8080/"
        },
        "id": "O_JlZQKGpifK",
        "outputId": "c05e1602-8b74-42bd-f460-b34201554058"
      },
      "execution_count": 33,
      "outputs": [
        {
          "output_type": "execute_result",
          "data": {
            "text/plain": [
              "tensor([[0.9518, 0.2210, 0.1516, 0.8132],\n",
              "        [0.7949, 0.7087, 0.9499, 0.0257],\n",
              "        [0.7653, 0.2553, 0.7590, 0.6891]])"
            ]
          },
          "metadata": {},
          "execution_count": 33
        }
      ]
    },
    {
      "cell_type": "code",
      "source": [
        "#to find details of the tensor above\n",
        "print(some_tensor)\n",
        "print(f\"Datatype of tensor: {some_tensor.dtype}\")\n",
        "print(f\"Shape of tensor:{some_tensor.shape}\")\n",
        "print(f\"Device the tensor is on: {some_tensor.device}\")"
      ],
      "metadata": {
        "colab": {
          "base_uri": "https://localhost:8080/"
        },
        "id": "90bvAYkxpoCL",
        "outputId": "e9776e42-a360-42bf-af17-0e36d91636ad"
      },
      "execution_count": 34,
      "outputs": [
        {
          "output_type": "stream",
          "name": "stdout",
          "text": [
            "tensor([[0.9518, 0.2210, 0.1516, 0.8132],\n",
            "        [0.7949, 0.7087, 0.9499, 0.0257],\n",
            "        [0.7653, 0.2553, 0.7590, 0.6891]])\n",
            "Datatype of tensor: torch.float32\n",
            "Shape of tensor:torch.Size([3, 4])\n",
            "Device the tensor is on: cpu\n"
          ]
        }
      ]
    },
    {
      "cell_type": "markdown",
      "source": [
        "\n",
        "\n",
        "##Manipulating Tensors\n",
        "Tensor operations include:\n",
        "- Addition\n",
        "- subtraction\n",
        "- multiplication(element wise)\n",
        "- division\n",
        "- matrix multiplication\n",
        "\n"
      ],
      "metadata": {
        "id": "0NkmzOzzsu6l"
      }
    },
    {
      "cell_type": "code",
      "source": [
        "#create a tensor and add\n",
        "tensor= torch.tensor([1,2,3])\n",
        "tensor + 10"
      ],
      "metadata": {
        "colab": {
          "base_uri": "https://localhost:8080/"
        },
        "id": "oMXS3zIaswoN",
        "outputId": "485b32ed-c47a-44b6-c825-5b527507f98d"
      },
      "execution_count": 54,
      "outputs": [
        {
          "output_type": "execute_result",
          "data": {
            "text/plain": [
              "tensor([11, 12, 13])"
            ]
          },
          "metadata": {},
          "execution_count": 54
        }
      ]
    },
    {
      "cell_type": "code",
      "source": [
        "#multiply\n",
        "tensor = tensor *10\n",
        "tensor"
      ],
      "metadata": {
        "colab": {
          "base_uri": "https://localhost:8080/"
        },
        "id": "DbG0Ve1jtF8W",
        "outputId": "4151c0f0-6ce6-4825-8658-1c20e2415e89"
      },
      "execution_count": 52,
      "outputs": [
        {
          "output_type": "execute_result",
          "data": {
            "text/plain": [
              "tensor([10, 20, 30])"
            ]
          },
          "metadata": {},
          "execution_count": 52
        }
      ]
    },
    {
      "cell_type": "code",
      "source": [
        "#divison\n",
        "tensor/10"
      ],
      "metadata": {
        "colab": {
          "base_uri": "https://localhost:8080/"
        },
        "id": "h_UFGl5tstdG",
        "outputId": "d989d6e3-7d3d-4bdd-ff40-4e5695caa523"
      },
      "execution_count": 53,
      "outputs": [
        {
          "output_type": "execute_result",
          "data": {
            "text/plain": [
              "tensor([1., 2., 3.])"
            ]
          },
          "metadata": {},
          "execution_count": 53
        }
      ]
    },
    {
      "cell_type": "code",
      "source": [
        "#using in-built functions\n",
        "torch.mul(tensor,10)\n",
        "torch.add(tensor,10)\n",
        "\n"
      ],
      "metadata": {
        "id": "dXNrDt9yqfi1"
      },
      "execution_count": null,
      "outputs": []
    },
    {
      "cell_type": "markdown",
      "source": [
        "#Matrix Multiplication\n",
        "rules:\n",
        "\n",
        "- Inner dimension must match\n",
        "\n",
        ". (3,2) @ (3,2) wont work\n",
        "\n",
        ". (2,3) @ (3,2) will work\n",
        "\n",
        ". (3,2) @ (2,3) will work\n",
        "\n",
        "- Resulting matrix has the shape of the outer dimension\n",
        "\n",
        ".  (2,3) @ (3,2) -> (2,2)\n",
        "\n",
        ".  (3,2) @ (2, 3) -> (3,3)"
      ],
      "metadata": {
        "id": "mv2DUFHOt-3i"
      }
    },
    {
      "cell_type": "code",
      "source": [
        "#element wise multiplication\n",
        "print(tensor, \"*\", tensor)\n",
        "print(f\"Equals: {tensor * tensor}\")"
      ],
      "metadata": {
        "colab": {
          "base_uri": "https://localhost:8080/"
        },
        "id": "L-q90dWFt5kn",
        "outputId": "cca0646c-2cd4-4ba9-d279-d91e8afcf691"
      },
      "execution_count": 57,
      "outputs": [
        {
          "output_type": "stream",
          "name": "stdout",
          "text": [
            "tensor([1, 2, 3]) * tensor([1, 2, 3])\n",
            "Equals: tensor([1, 4, 9])\n"
          ]
        }
      ]
    },
    {
      "cell_type": "code",
      "source": [
        "#matrix multiplication\n",
        "torch.matmul(tensor,tensor) #recommended\n",
        "# tensor @ tensor , can be used instead"
      ],
      "metadata": {
        "colab": {
          "base_uri": "https://localhost:8080/"
        },
        "id": "UJ2TxnnjuYLr",
        "outputId": "8a88658a-4034-48e8-8b45-e8255ec4992b"
      },
      "execution_count": 62,
      "outputs": [
        {
          "output_type": "execute_result",
          "data": {
            "text/plain": [
              "tensor(14)"
            ]
          },
          "metadata": {},
          "execution_count": 62
        }
      ]
    },
    {
      "cell_type": "code",
      "source": [
        " torch.matmul(torch.rand(3,10), torch.rand(10,3))"
      ],
      "metadata": {
        "colab": {
          "base_uri": "https://localhost:8080/"
        },
        "id": "NqRy-jT7udop",
        "outputId": "ad62f9bb-df2b-4d76-b672-0e826361f25a"
      },
      "execution_count": 64,
      "outputs": [
        {
          "output_type": "execute_result",
          "data": {
            "text/plain": [
              "tensor([[2.7511, 2.3014, 2.4152],\n",
              "        [2.8676, 2.3249, 3.3047],\n",
              "        [3.4092, 2.4253, 3.5391]])"
            ]
          },
          "metadata": {},
          "execution_count": 64
        }
      ]
    },
    {
      "cell_type": "code",
      "source": [
        " torch.matmul(torch.rand(3,10), torch.rand(10,3)).shape\n",
        ""
      ],
      "metadata": {
        "colab": {
          "base_uri": "https://localhost:8080/"
        },
        "id": "rfiHBa1uwP7U",
        "outputId": "3f4c7e6c-1abf-46e5-ef0a-c61958b1ca58"
      },
      "execution_count": 65,
      "outputs": [
        {
          "output_type": "execute_result",
          "data": {
            "text/plain": [
              "torch.Size([3, 3])"
            ]
          },
          "metadata": {},
          "execution_count": 65
        }
      ]
    },
    {
      "cell_type": "code",
      "source": [
        "#shapes for matrix multiplication\n",
        "tensor_a = torch.tensor([[1,2],\n",
        "                        [3,4],\n",
        "                        [5,6]])\n",
        "tensor_b = torch.tensor([[7,10],[8,11],[9,12]])\n",
        "torch.mm(tensor_a,tensor_b) #torch.mm is torch.matmul"
      ],
      "metadata": {
        "colab": {
          "base_uri": "https://localhost:8080/",
          "height": 250
        },
        "id": "CgpMyfhFwcJw",
        "outputId": "d8369ffd-9439-4e81-d214-5f2e4f2fae4c"
      },
      "execution_count": 66,
      "outputs": [
        {
          "output_type": "error",
          "ename": "RuntimeError",
          "evalue": "mat1 and mat2 shapes cannot be multiplied (3x2 and 3x2)",
          "traceback": [
            "\u001b[0;31m---------------------------------------------------------------------------\u001b[0m",
            "\u001b[0;31mRuntimeError\u001b[0m                              Traceback (most recent call last)",
            "\u001b[0;32m<ipython-input-66-e17bd4dc69f5>\u001b[0m in \u001b[0;36m<cell line: 6>\u001b[0;34m()\u001b[0m\n\u001b[1;32m      4\u001b[0m                         [5,6]])\n\u001b[1;32m      5\u001b[0m \u001b[0mtensor_b\u001b[0m \u001b[0;34m=\u001b[0m \u001b[0mtorch\u001b[0m\u001b[0;34m.\u001b[0m\u001b[0mtensor\u001b[0m\u001b[0;34m(\u001b[0m\u001b[0;34m[\u001b[0m\u001b[0;34m[\u001b[0m\u001b[0;36m7\u001b[0m\u001b[0;34m,\u001b[0m\u001b[0;36m10\u001b[0m\u001b[0;34m]\u001b[0m\u001b[0;34m,\u001b[0m\u001b[0;34m[\u001b[0m\u001b[0;36m8\u001b[0m\u001b[0;34m,\u001b[0m\u001b[0;36m11\u001b[0m\u001b[0;34m]\u001b[0m\u001b[0;34m,\u001b[0m\u001b[0;34m[\u001b[0m\u001b[0;36m9\u001b[0m\u001b[0;34m,\u001b[0m\u001b[0;36m12\u001b[0m\u001b[0;34m]\u001b[0m\u001b[0;34m]\u001b[0m\u001b[0;34m)\u001b[0m\u001b[0;34m\u001b[0m\u001b[0;34m\u001b[0m\u001b[0m\n\u001b[0;32m----> 6\u001b[0;31m \u001b[0mtorch\u001b[0m\u001b[0;34m.\u001b[0m\u001b[0mmm\u001b[0m\u001b[0;34m(\u001b[0m\u001b[0mtensor_a\u001b[0m\u001b[0;34m,\u001b[0m\u001b[0mtensor_b\u001b[0m\u001b[0;34m)\u001b[0m \u001b[0;31m#torch.mm is torch.matmul\u001b[0m\u001b[0;34m\u001b[0m\u001b[0;34m\u001b[0m\u001b[0m\n\u001b[0m",
            "\u001b[0;31mRuntimeError\u001b[0m: mat1 and mat2 shapes cannot be multiplied (3x2 and 3x2)"
          ]
        }
      ]
    },
    {
      "cell_type": "code",
      "source": [
        "tensor_a.shape, tensor_b.shape"
      ],
      "metadata": {
        "colab": {
          "base_uri": "https://localhost:8080/"
        },
        "id": "JNjY5VAdx_XA",
        "outputId": "90b0ea84-fc70-4fc1-c520-c5a21ee8dc22"
      },
      "execution_count": 69,
      "outputs": [
        {
          "output_type": "execute_result",
          "data": {
            "text/plain": [
              "(torch.Size([3, 2]), torch.Size([3, 2]))"
            ]
          },
          "metadata": {},
          "execution_count": 69
        }
      ]
    },
    {
      "cell_type": "code",
      "source": [
        "#to fix shape issue, we transpose one matrix\n",
        "tensor_b, tensor_b.T"
      ],
      "metadata": {
        "colab": {
          "base_uri": "https://localhost:8080/"
        },
        "id": "-sBjuAf5yFnU",
        "outputId": "25b78f4a-9390-41b1-ad9a-81cf8f1ffc4f"
      },
      "execution_count": 74,
      "outputs": [
        {
          "output_type": "execute_result",
          "data": {
            "text/plain": [
              "(tensor([[ 7, 10],\n",
              "         [ 8, 11],\n",
              "         [ 9, 12]]),\n",
              " tensor([[ 7,  8,  9],\n",
              "         [10, 11, 12]]))"
            ]
          },
          "metadata": {},
          "execution_count": 74
        }
      ]
    },
    {
      "cell_type": "code",
      "source": [
        "print(f\"Original shapes: tensor_a = {tensor_a.shape}, tensor_b= {tensor_b.shape}\")\n",
        "print(f\"New shapes: tensor_a = {tensor_a.shape}, tensor_b.T= {tensor_b.T.shape}\")\n",
        "print(f\"Multiplying: {tensor_a.shape} @ {tensor_b.T.shape}\")\n",
        "print(\"\\nOutput:\\n\")\n",
        "output = torch.mm(tensor_a, tensor_b.T)\n",
        "print(output)\n",
        "print(f\"Output shape= {output.shape}\")\n",
        "\n"
      ],
      "metadata": {
        "colab": {
          "base_uri": "https://localhost:8080/"
        },
        "id": "05fjBP0tyWc4",
        "outputId": "17a00b33-6a49-44e8-f417-9fb341185d22"
      },
      "execution_count": 84,
      "outputs": [
        {
          "output_type": "stream",
          "name": "stdout",
          "text": [
            "Original shapes: tensor_a = torch.Size([3, 2]), tensor_b= torch.Size([3, 2])\n",
            "New shapes: tensor_a = torch.Size([3, 2]), tensor_b.T= torch.Size([2, 3])\n",
            "Multiplying: torch.Size([3, 2]) @ torch.Size([2, 3])\n",
            "\n",
            "Output:\n",
            "\n",
            "tensor([[ 27,  30,  33],\n",
            "        [ 61,  68,  75],\n",
            "        [ 95, 106, 117]])\n",
            "Output shape= torch.Size([3, 3])\n"
          ]
        }
      ]
    },
    {
      "cell_type": "markdown",
      "source": [
        "##Tensor aggregation\n",
        "Finding min,max, mean, sum,etc"
      ],
      "metadata": {
        "id": "cCkNe6tX0d0U"
      }
    },
    {
      "cell_type": "code",
      "source": [
        "#create a tensor\n",
        "x= torch.arange(1,100,10)\n",
        "x"
      ],
      "metadata": {
        "colab": {
          "base_uri": "https://localhost:8080/"
        },
        "id": "8vxKpcw1ywl1",
        "outputId": "6eea4721-e194-4f14-cf24-9bdbc3e4f423"
      },
      "execution_count": 100,
      "outputs": [
        {
          "output_type": "execute_result",
          "data": {
            "text/plain": [
              "tensor([ 1, 11, 21, 31, 41, 51, 61, 71, 81, 91])"
            ]
          },
          "metadata": {},
          "execution_count": 100
        }
      ]
    },
    {
      "cell_type": "code",
      "source": [
        "#min\n",
        "#torch.min(x)\n",
        "x.min()"
      ],
      "metadata": {
        "colab": {
          "base_uri": "https://localhost:8080/"
        },
        "id": "S-XC8iqb01Ki",
        "outputId": "dceacb85-a473-4b04-a88e-b7890c36257e"
      },
      "execution_count": 101,
      "outputs": [
        {
          "output_type": "execute_result",
          "data": {
            "text/plain": [
              "tensor(1)"
            ]
          },
          "metadata": {},
          "execution_count": 101
        }
      ]
    },
    {
      "cell_type": "code",
      "source": [
        "#max\n",
        "torch.max(x)\n",
        "#x.max()"
      ],
      "metadata": {
        "colab": {
          "base_uri": "https://localhost:8080/"
        },
        "id": "zMYYa_QG0-4C",
        "outputId": "4306680f-f748-4e43-910a-ddffc1ac9773"
      },
      "execution_count": 102,
      "outputs": [
        {
          "output_type": "execute_result",
          "data": {
            "text/plain": [
              "tensor(91)"
            ]
          },
          "metadata": {},
          "execution_count": 102
        }
      ]
    },
    {
      "cell_type": "code",
      "source": [
        "#mean: the function requirres a tensor of float32 datatype instead of long\n",
        "torch.mean(x.type(torch.float32)), x.type(torch.float32).mean()"
      ],
      "metadata": {
        "colab": {
          "base_uri": "https://localhost:8080/"
        },
        "id": "cCiYW0Cy1HYm",
        "outputId": "a96cffed-5832-49a3-a80b-7896a77580df"
      },
      "execution_count": 103,
      "outputs": [
        {
          "output_type": "execute_result",
          "data": {
            "text/plain": [
              "(tensor(46.), tensor(46.))"
            ]
          },
          "metadata": {},
          "execution_count": 103
        }
      ]
    },
    {
      "cell_type": "code",
      "source": [
        "#sum\n",
        "torch.sum(x) , x.sum()\n"
      ],
      "metadata": {
        "colab": {
          "base_uri": "https://localhost:8080/"
        },
        "id": "p7jxF6eE1Rh4",
        "outputId": "a273da8d-5490-49c0-907b-c88ab15c9694"
      },
      "execution_count": 104,
      "outputs": [
        {
          "output_type": "execute_result",
          "data": {
            "text/plain": [
              "(tensor(460), tensor(460))"
            ]
          },
          "metadata": {},
          "execution_count": 104
        }
      ]
    },
    {
      "cell_type": "code",
      "source": [
        "#positional min max\n",
        "x.argmin(), x.argmax() #find the position in tensor that has\n",
        "                       #the minimum value->returns index position"
      ],
      "metadata": {
        "colab": {
          "base_uri": "https://localhost:8080/"
        },
        "id": "Fb2HFXKP1qwH",
        "outputId": "d98b0c0f-4035-4802-8893-afeabed6019c"
      },
      "execution_count": 108,
      "outputs": [
        {
          "output_type": "execute_result",
          "data": {
            "text/plain": [
              "(tensor(0), tensor(9))"
            ]
          },
          "metadata": {},
          "execution_count": 108
        }
      ]
    },
    {
      "cell_type": "code",
      "source": [
        "x[0], x[9]"
      ],
      "metadata": {
        "colab": {
          "base_uri": "https://localhost:8080/"
        },
        "id": "e7JmT8b72UcL",
        "outputId": "169b3429-0b33-49b2-8761-f960c8128264"
      },
      "execution_count": 109,
      "outputs": [
        {
          "output_type": "execute_result",
          "data": {
            "text/plain": [
              "(tensor(1), tensor(91))"
            ]
          },
          "metadata": {},
          "execution_count": 109
        }
      ]
    },
    {
      "cell_type": "markdown",
      "source": [
        "#reshaping, stacking, squeezing and unsqeezing tensors\n",
        "* reshaping: reshape an input tensor to a defined shape\n",
        "* view: return a view of an input tensor of certain shape but keep the same memory as the original tensor\n",
        "* stacking: combine multiple tensors on top of each other(vstack) or side by side (hstack)  \n",
        "* squeeze: removes all '1' dimensions from a tensor\n",
        "* unsqueeze: add a '1' dimension to a target tensor\n",
        "* permute: return a view of the input with dimensions permuted (swapped) in a certain way"
      ],
      "metadata": {
        "id": "h_FrTa9c3Aqn"
      }
    },
    {
      "cell_type": "code",
      "source": [
        "#create a tensor\n",
        "y= torch.arange(1.,10.)\n",
        "y, y.shape"
      ],
      "metadata": {
        "colab": {
          "base_uri": "https://localhost:8080/"
        },
        "id": "IzlF-ydR2XMj",
        "outputId": "a5e2a2c7-f5ea-4fd1-d7f6-6bbf6659c1ea"
      },
      "execution_count": 141,
      "outputs": [
        {
          "output_type": "execute_result",
          "data": {
            "text/plain": [
              "(tensor([1., 2., 3., 4., 5., 6., 7., 8., 9.]), torch.Size([9]))"
            ]
          },
          "metadata": {},
          "execution_count": 141
        }
      ]
    },
    {
      "cell_type": "code",
      "source": [
        "#add an extra dimension\n",
        "y_reshaped= y.reshape(1,9) #9 *1 =9 i.e the size of the tensor\n",
        "y_reshaped , y_reshaped.shape"
      ],
      "metadata": {
        "colab": {
          "base_uri": "https://localhost:8080/"
        },
        "id": "L8E38xhm4CB4",
        "outputId": "5d0b2352-36b8-46c3-fc94-75888043953e"
      },
      "execution_count": 142,
      "outputs": [
        {
          "output_type": "execute_result",
          "data": {
            "text/plain": [
              "(tensor([[1., 2., 3., 4., 5., 6., 7., 8., 9.]]), torch.Size([1, 9]))"
            ]
          },
          "metadata": {},
          "execution_count": 142
        }
      ]
    },
    {
      "cell_type": "code",
      "source": [
        "#change the view\n",
        "z=y.view(1,9) #z is just another view of y as view of a tensor\n",
        "              #shares the same memory as the original input\n",
        "              #changes in z changes y\n",
        "z, z.shape"
      ],
      "metadata": {
        "colab": {
          "base_uri": "https://localhost:8080/"
        },
        "id": "RkpwMGZL5Ayt",
        "outputId": "7cc60bc1-5257-4bf1-c095-95f48b5011f9"
      },
      "execution_count": 143,
      "outputs": [
        {
          "output_type": "execute_result",
          "data": {
            "text/plain": [
              "(tensor([[1., 2., 3., 4., 5., 6., 7., 8., 9.]]), torch.Size([1, 9]))"
            ]
          },
          "metadata": {},
          "execution_count": 143
        }
      ]
    },
    {
      "cell_type": "code",
      "source": [
        "#stack tensors on top of eachother\n",
        "y_stacked= torch.stack([y,y,y,y],dim=0)\n",
        "y_stacked"
      ],
      "metadata": {
        "colab": {
          "base_uri": "https://localhost:8080/"
        },
        "id": "M7uIbA_Z4YS4",
        "outputId": "efe61ec6-c97a-4b84-eceb-f6cc165c027c"
      },
      "execution_count": 144,
      "outputs": [
        {
          "output_type": "execute_result",
          "data": {
            "text/plain": [
              "tensor([[1., 2., 3., 4., 5., 6., 7., 8., 9.],\n",
              "        [1., 2., 3., 4., 5., 6., 7., 8., 9.],\n",
              "        [1., 2., 3., 4., 5., 6., 7., 8., 9.],\n",
              "        [1., 2., 3., 4., 5., 6., 7., 8., 9.]])"
            ]
          },
          "metadata": {},
          "execution_count": 144
        }
      ]
    },
    {
      "cell_type": "code",
      "source": [
        "#torch.squeeze() that removes all single dimension from a target tensor\n",
        "print(f\"Previous tensor: {y_reshaped}\")\n",
        "print(f\"Previous shape: {y_reshaped.shape}\")\n",
        "y_squeezed = y_reshaped.squeeze()\n",
        "\n",
        "print(f\"New tensor: {y_squeezed}\")\n",
        "print(f\"New shape: {y_squeezed.shape}\")"
      ],
      "metadata": {
        "colab": {
          "base_uri": "https://localhost:8080/"
        },
        "id": "jMCRoxG-7L-a",
        "outputId": "7f721066-b3b1-4fa0-8358-b2cb42eb0ff3"
      },
      "execution_count": 146,
      "outputs": [
        {
          "output_type": "stream",
          "name": "stdout",
          "text": [
            "Previous tensor: tensor([[1., 2., 3., 4., 5., 6., 7., 8., 9.]])\n",
            "Previous shape: torch.Size([1, 9])\n",
            "New tensor: tensor([1., 2., 3., 4., 5., 6., 7., 8., 9.])\n",
            "New shape: torch.Size([9])\n"
          ]
        }
      ]
    },
    {
      "cell_type": "code",
      "source": [
        "#torch.unsqueeze()\n",
        "print(f\"Previous tensor: {y_squeezed}\")\n",
        "print(f\"Previous shape: {y_squeezed.shape}\")\n",
        "y_unsqueezed = y_squeezed.unsqueeze(dim=0)\n",
        "\n",
        "print(f\"New tensor: {y_unsqueezed}\")\n",
        "print(f\"New shape: {y_unsqueezed.shape}\")"
      ],
      "metadata": {
        "colab": {
          "base_uri": "https://localhost:8080/"
        },
        "id": "JBPw7EID72Gt",
        "outputId": "4e1fcf6a-3958-400c-a5e7-1ea761d23171"
      },
      "execution_count": 152,
      "outputs": [
        {
          "output_type": "stream",
          "name": "stdout",
          "text": [
            "Previous tensor: tensor([1., 2., 3., 4., 5., 6., 7., 8., 9.])\n",
            "Previous shape: torch.Size([9])\n",
            "New tensor: tensor([[1., 2., 3., 4., 5., 6., 7., 8., 9.]])\n",
            "New shape: torch.Size([1, 9])\n"
          ]
        }
      ]
    },
    {
      "cell_type": "code",
      "source": [
        "#torch.permute\n",
        "y_original = torch.rand(size=(224,224,3)) #height,width, colour_channels\n",
        "y_original\n",
        "#permute\n",
        "y_permuted= y_original.permute(2,0,1)\n",
        "y_permuted"
      ],
      "metadata": {
        "colab": {
          "base_uri": "https://localhost:8080/"
        },
        "id": "K0LQ3ESn8Xzc",
        "outputId": "d5d0acae-1fd1-4f27-d65f-9a2baee41ff9"
      },
      "execution_count": 156,
      "outputs": [
        {
          "output_type": "execute_result",
          "data": {
            "text/plain": [
              "tensor([[[0.4326, 0.9855, 0.5334,  ..., 0.2594, 0.6992, 0.7950],\n",
              "         [0.3765, 0.5999, 0.6304,  ..., 0.6472, 0.3978, 0.5363],\n",
              "         [0.0765, 0.6898, 0.6694,  ..., 0.1569, 0.2592, 0.9448],\n",
              "         ...,\n",
              "         [0.1397, 0.3987, 0.7190,  ..., 0.7107, 0.8336, 0.6816],\n",
              "         [0.9239, 0.9994, 0.7310,  ..., 0.1968, 0.9199, 0.1294],\n",
              "         [0.8545, 0.7628, 0.1376,  ..., 0.3751, 0.3070, 0.5818]],\n",
              "\n",
              "        [[0.7023, 0.2658, 0.6147,  ..., 0.0789, 0.8329, 0.1722],\n",
              "         [0.1709, 0.8620, 0.3843,  ..., 0.5396, 0.4685, 0.0449],\n",
              "         [0.5538, 0.5238, 0.2224,  ..., 0.2948, 0.1274, 0.6498],\n",
              "         ...,\n",
              "         [0.9463, 0.1844, 0.4133,  ..., 0.0322, 0.0237, 0.7203],\n",
              "         [0.4782, 0.8112, 0.2415,  ..., 0.0241, 0.2456, 0.1921],\n",
              "         [0.5640, 0.5676, 0.3300,  ..., 0.6064, 0.7011, 0.5196]],\n",
              "\n",
              "        [[0.3678, 0.9206, 0.0095,  ..., 0.6950, 0.0112, 0.5389],\n",
              "         [0.1299, 0.1482, 0.5375,  ..., 0.1465, 0.8942, 0.2136],\n",
              "         [0.7652, 0.0781, 0.8002,  ..., 0.6910, 0.7004, 0.2808],\n",
              "         ...,\n",
              "         [0.2723, 0.4829, 0.5737,  ..., 0.2285, 0.9337, 0.2574],\n",
              "         [0.4790, 0.2271, 0.2951,  ..., 0.6434, 0.7961, 0.0843],\n",
              "         [0.4350, 0.1537, 0.5756,  ..., 0.3305, 0.1709, 0.9138]]])"
            ]
          },
          "metadata": {},
          "execution_count": 156
        }
      ]
    },
    {
      "cell_type": "markdown",
      "source": [
        "#indexing (selecting data from tensors)\n"
      ],
      "metadata": {
        "id": "AWwnkXso--Z9"
      }
    },
    {
      "cell_type": "code",
      "source": [
        "#create a tensor\n",
        "x= torch.arange(1,10).reshape(1,3,3)\n",
        "x, x.shape"
      ],
      "metadata": {
        "colab": {
          "base_uri": "https://localhost:8080/"
        },
        "id": "F2yyChSS8CSM",
        "outputId": "ad55844f-23ad-42f3-e3d0-86a4810b1188"
      },
      "execution_count": 157,
      "outputs": [
        {
          "output_type": "execute_result",
          "data": {
            "text/plain": [
              "(tensor([[[1, 2, 3],\n",
              "          [4, 5, 6],\n",
              "          [7, 8, 9]]]),\n",
              " torch.Size([1, 3, 3]))"
            ]
          },
          "metadata": {},
          "execution_count": 157
        }
      ]
    },
    {
      "cell_type": "code",
      "source": [
        "#index on our new tensor\n",
        "x[0], x[0][0], x[0][0][0] #x[1][0][0] can't be used as the dimension is 1,3,3"
      ],
      "metadata": {
        "colab": {
          "base_uri": "https://localhost:8080/"
        },
        "id": "lAuVHZmF-_4f",
        "outputId": "5df98366-3013-45c3-ef52-bfe25e77091a"
      },
      "execution_count": 160,
      "outputs": [
        {
          "output_type": "execute_result",
          "data": {
            "text/plain": [
              "(tensor([[1, 2, 3],\n",
              "         [4, 5, 6],\n",
              "         [7, 8, 9]]),\n",
              " tensor([1, 2, 3]),\n",
              " tensor(1))"
            ]
          },
          "metadata": {},
          "execution_count": 160
        }
      ]
    },
    {
      "cell_type": "markdown",
      "source": [
        "try different ways of indexing on your own"
      ],
      "metadata": {
        "id": "QgRigEMW_-_Y"
      }
    },
    {
      "cell_type": "markdown",
      "source": [
        "##PyTorch tensors and NumPy\n",
        "\n",
        "Numpy is a popular scientific Python numerical computing library\n"
      ],
      "metadata": {
        "id": "TZAsMCCcAOR9"
      }
    },
    {
      "cell_type": "code",
      "source": [
        "#NumPy array to tensor\n",
        "import torch\n",
        "import numpy as np\n",
        "\n",
        "array= np.arange(1.0,8.0)\n",
        "tensor= torch.from_numpy(array) #default datatype float64 when converting from numpy\n",
        "array, tensor"
      ],
      "metadata": {
        "colab": {
          "base_uri": "https://localhost:8080/"
        },
        "id": "bS3e6H1C_MwV",
        "outputId": "9a8030ca-4870-42b4-ccbf-fda4bc3a4e66"
      },
      "execution_count": 163,
      "outputs": [
        {
          "output_type": "execute_result",
          "data": {
            "text/plain": [
              "(array([1., 2., 3., 4., 5., 6., 7.]),\n",
              " tensor([1., 2., 3., 4., 5., 6., 7.], dtype=torch.float64))"
            ]
          },
          "metadata": {},
          "execution_count": 163
        }
      ]
    },
    {
      "cell_type": "code",
      "source": [
        "#change the value of array, effect on tensor\n",
        "array = array +1\n",
        "array, tensor"
      ],
      "metadata": {
        "colab": {
          "base_uri": "https://localhost:8080/"
        },
        "id": "tjmYzCHWA0cH",
        "outputId": "ebc51fad-3dd4-40d1-dd8c-755b755e4557"
      },
      "execution_count": 165,
      "outputs": [
        {
          "output_type": "execute_result",
          "data": {
            "text/plain": [
              "(array([3., 4., 5., 6., 7., 8., 9.]),\n",
              " tensor([1., 2., 3., 4., 5., 6., 7.], dtype=torch.float64))"
            ]
          },
          "metadata": {},
          "execution_count": 165
        }
      ]
    },
    {
      "cell_type": "markdown",
      "source": [
        "thus, no change\n",
        "\n"
      ],
      "metadata": {
        "id": "bp8KKWklBb0i"
      }
    },
    {
      "cell_type": "code",
      "source": [
        "#tensor to numpy array\n",
        "tensor = torch.ones(7)\n",
        "numpy_tensor=tensor.numpy()\n",
        "tensor, numpy_tensor\n"
      ],
      "metadata": {
        "colab": {
          "base_uri": "https://localhost:8080/"
        },
        "id": "c0WhkfRgBjDR",
        "outputId": "abda5030-fca9-4e9a-d96d-1b71d0e8b7d0"
      },
      "execution_count": 167,
      "outputs": [
        {
          "output_type": "execute_result",
          "data": {
            "text/plain": [
              "(tensor([1., 1., 1., 1., 1., 1., 1.]),\n",
              " array([1., 1., 1., 1., 1., 1., 1.], dtype=float32))"
            ]
          },
          "metadata": {},
          "execution_count": 167
        }
      ]
    },
    {
      "cell_type": "markdown",
      "source": [
        "#Reproducibility (trying to take random out of random)\n",
        "\n",
        " to reduce randomness in neural networks, pytorch comes with the concpet of a **random seed**.\n",
        " It flavours the randomness."
      ],
      "metadata": {
        "id": "KcjR_loADiJW"
      }
    },
    {
      "cell_type": "code",
      "source": [
        "\n",
        "import torch\n",
        "\n",
        "#set random seed\n",
        "RANDOM_SEED = 42\n",
        "torch.manual_seed(RANDOM_SEED)\n",
        "\n",
        "random_tensor_c = torch.rand(3,4)\n",
        "torch.manual_seed(RANDOM_SEED)\n",
        "\n",
        "random_tensor_d = torch.rand(3,4)\n",
        "\n",
        "print(random_tensor_c)\n",
        "print(random_tensor_d)\n",
        "print(random_tensor_c == random_tensor_d)"
      ],
      "metadata": {
        "colab": {
          "base_uri": "https://localhost:8080/"
        },
        "id": "ezBCs56CBtI_",
        "outputId": "c9d6c1e6-d6de-4663-fcad-9cc38de1d274"
      },
      "execution_count": 171,
      "outputs": [
        {
          "output_type": "stream",
          "name": "stdout",
          "text": [
            "tensor([[0.8823, 0.9150, 0.3829, 0.9593],\n",
            "        [0.3904, 0.6009, 0.2566, 0.7936],\n",
            "        [0.9408, 0.1332, 0.9346, 0.5936]])\n",
            "tensor([[0.8823, 0.9150, 0.3829, 0.9593],\n",
            "        [0.3904, 0.6009, 0.2566, 0.7936],\n",
            "        [0.9408, 0.1332, 0.9346, 0.5936]])\n",
            "tensor([[True, True, True, True],\n",
            "        [True, True, True, True],\n",
            "        [True, True, True, True]])\n"
          ]
        }
      ]
    },
    {
      "cell_type": "markdown",
      "source": [
        "##running tensors and pytorch objects on the GPUS ( and making faster computations)"
      ],
      "metadata": {
        "id": "onJI6J0hEEje"
      }
    },
    {
      "cell_type": "code",
      "source": [
        "##check for GPU access with PyTorch\n",
        "import torch\n",
        "torch.cuda.is_available()\n"
      ],
      "metadata": {
        "colab": {
          "base_uri": "https://localhost:8080/"
        },
        "id": "Q7lm_dfSCxw6",
        "outputId": "3c147dad-0021-48f5-d1e2-e0fe3b1c325e"
      },
      "execution_count": 2,
      "outputs": [
        {
          "output_type": "execute_result",
          "data": {
            "text/plain": [
              "True"
            ]
          },
          "metadata": {},
          "execution_count": 2
        }
      ]
    },
    {
      "cell_type": "code",
      "source": [
        "#setup device agnostic code (best practice)\n",
        "device = \"cuda\" if torch.cuda.is_available() else \"cpu\"\n",
        "device\n"
      ],
      "metadata": {
        "colab": {
          "base_uri": "https://localhost:8080/",
          "height": 35
        },
        "id": "GIrTFXCJE33o",
        "outputId": "c9aeb6d1-6b90-45b7-82db-2e166c9f6980"
      },
      "execution_count": 8,
      "outputs": [
        {
          "output_type": "execute_result",
          "data": {
            "text/plain": [
              "'cuda'"
            ],
            "application/vnd.google.colaboratory.intrinsic+json": {
              "type": "string"
            }
          },
          "metadata": {},
          "execution_count": 8
        }
      ]
    },
    {
      "cell_type": "code",
      "source": [
        "#count number of devices\n",
        "torch.cuda.device_count()"
      ],
      "metadata": {
        "colab": {
          "base_uri": "https://localhost:8080/"
        },
        "id": "_R5hZRuIFGKB",
        "outputId": "b9498437-2111-4d6e-82d8-7bc116c147ca"
      },
      "execution_count": 7,
      "outputs": [
        {
          "output_type": "execute_result",
          "data": {
            "text/plain": [
              "1"
            ]
          },
          "metadata": {},
          "execution_count": 7
        }
      ]
    },
    {
      "cell_type": "code",
      "source": [
        "#putting tensors (and models) on the GPU (for faster computations)\n",
        "tensor= torch.tensor([1,2,3])\n",
        "print(tensor, tensor.device)\n"
      ],
      "metadata": {
        "colab": {
          "base_uri": "https://localhost:8080/"
        },
        "id": "HYjJL5zWFRT7",
        "outputId": "790308c5-f524-421b-e034-a8e929538b28"
      },
      "execution_count": 9,
      "outputs": [
        {
          "output_type": "stream",
          "name": "stdout",
          "text": [
            "tensor([1, 2, 3]) cpu\n"
          ]
        }
      ]
    },
    {
      "cell_type": "code",
      "source": [
        "#move tensor to gpu (if available)\n",
        "tensor_on_gpu= tensor.to(device)\n",
        "tensor_on_gpu"
      ],
      "metadata": {
        "colab": {
          "base_uri": "https://localhost:8080/"
        },
        "id": "QYtBFUB4F6aN",
        "outputId": "fd880d99-b1f1-47de-9442-d81a4e5fd407"
      },
      "execution_count": 11,
      "outputs": [
        {
          "output_type": "execute_result",
          "data": {
            "text/plain": [
              "tensor([1, 2, 3], device='cuda:0')"
            ]
          },
          "metadata": {},
          "execution_count": 11
        }
      ]
    },
    {
      "cell_type": "code",
      "source": [
        "## moving tensors back to cpu\n",
        "#if tensor is on gpu, can't transform it to numpy\n",
        "tensor_back_on_cpu= tensor_on_gpu.cpu().numpy()\n",
        "tensor_back_on_cpu"
      ],
      "metadata": {
        "colab": {
          "base_uri": "https://localhost:8080/"
        },
        "id": "1CD9XDx6GD_i",
        "outputId": "f5152006-dcfe-4788-e1fa-6f91ebe376e5"
      },
      "execution_count": 12,
      "outputs": [
        {
          "output_type": "execute_result",
          "data": {
            "text/plain": [
              "array([1, 2, 3])"
            ]
          },
          "metadata": {},
          "execution_count": 12
        }
      ]
    },
    {
      "cell_type": "code",
      "source": [
        "tensor_on_gpu"
      ],
      "metadata": {
        "colab": {
          "base_uri": "https://localhost:8080/"
        },
        "id": "2zLuHQ2gGiVv",
        "outputId": "a6ea6ad1-4c21-410d-afec-853720bd97ee"
      },
      "execution_count": 13,
      "outputs": [
        {
          "output_type": "execute_result",
          "data": {
            "text/plain": [
              "tensor([1, 2, 3], device='cuda:0')"
            ]
          },
          "metadata": {},
          "execution_count": 13
        }
      ]
    }
  ]
}