{
  "nbformat": 4,
  "nbformat_minor": 0,
  "metadata": {
    "colab": {
      "provenance": [],
      "gpuType": "T4",
      "authorship_tag": "ABX9TyOjgoX+LWjUHjrqQAyZKiHu",
      "include_colab_link": true
    },
    "kernelspec": {
      "name": "python3",
      "display_name": "Python 3"
    },
    "language_info": {
      "name": "python"
    },
    "accelerator": "GPU"
  },
  "cells": [
    {
      "cell_type": "markdown",
      "metadata": {
        "id": "view-in-github",
        "colab_type": "text"
      },
      "source": [
        "<a href=\"https://colab.research.google.com/github/Isha0711/PyTorch-for-Deep-Learning/blob/main/updated_intro_to_tensor.ipynb\" target=\"_parent\"><img src=\"https://colab.research.google.com/assets/colab-badge.svg\" alt=\"Open In Colab\"/></a>"
      ]
    },
    {
      "cell_type": "markdown",
      "source": [
        "## 00. PyTorch Fundamentals\n",
        "- popular research deep learning framework\n",
        "- write fast deep learning codes in python\n",
        "- aids transfer learning\n",
        "- whole stack: pre processes data, model data, deploy model in your application/cloud"
      ],
      "metadata": {
        "id": "kytApRrfnQHT"
      }
    },
    {
      "cell_type": "code",
      "execution_count": 1,
      "metadata": {
        "colab": {
          "base_uri": "https://localhost:8080/"
        },
        "id": "KofT1hwekx2k",
        "outputId": "7e710b23-c0c2-42fa-ef5a-f9edd05965dc"
      },
      "outputs": [
        {
          "output_type": "stream",
          "name": "stdout",
          "text": [
            "Hello I am excited to learn PyTorch!\n"
          ]
        }
      ],
      "source": [
        "print(\"Hello I am excited to learn PyTorch!\")"
      ]
    },
    {
      "cell_type": "code",
      "source": [
        "import torch\n",
        "import pandas as pd\n",
        "import numpy as np\n",
        "import matplotlib.pyplot as plt\n",
        "print(torch.__version__)"
      ],
      "metadata": {
        "colab": {
          "base_uri": "https://localhost:8080/"
        },
        "id": "AwVJ1ywBl8ea",
        "outputId": "e5ef3f27-ee06-46e6-9053-927c9d413f14"
      },
      "execution_count": 2,
      "outputs": [
        {
          "output_type": "stream",
          "name": "stdout",
          "text": [
            "2.1.0+cu121\n"
          ]
        }
      ]
    },
    {
      "cell_type": "markdown",
      "source": [
        "##Introduction to tensors\n",
        "\n",
        "###Creating sensors\n",
        "\n",
        "PyTorch tensors are created using 'torch.Tensor()'\n"
      ],
      "metadata": {
        "id": "6sjPBZFboJE4"
      }
    },
    {
      "cell_type": "code",
      "source": [
        "#scalar\n",
        "scalar= torch.tensor(7)\n",
        "scalar"
      ],
      "metadata": {
        "colab": {
          "base_uri": "https://localhost:8080/"
        },
        "id": "Jq0qafihoLeO",
        "outputId": "37bb84ba-77e9-4869-f4ae-3225d554b06e"
      },
      "execution_count": 3,
      "outputs": [
        {
          "output_type": "execute_result",
          "data": {
            "text/plain": [
              "tensor(7)"
            ]
          },
          "metadata": {},
          "execution_count": 3
        }
      ]
    },
    {
      "cell_type": "code",
      "source": [
        "scalar.ndim"
      ],
      "metadata": {
        "colab": {
          "base_uri": "https://localhost:8080/"
        },
        "id": "TZp4Q8IXo42c",
        "outputId": "d5b97ebb-cc63-4172-ead5-6b265837e21a"
      },
      "execution_count": 4,
      "outputs": [
        {
          "output_type": "execute_result",
          "data": {
            "text/plain": [
              "0"
            ]
          },
          "metadata": {},
          "execution_count": 4
        }
      ]
    },
    {
      "cell_type": "code",
      "source": [
        "#get tensor back as python int\n",
        "scalar.item()"
      ],
      "metadata": {
        "colab": {
          "base_uri": "https://localhost:8080/"
        },
        "id": "IWqrmeWlpOrW",
        "outputId": "7f35eda5-fe71-4e9a-955f-df0928113cf5"
      },
      "execution_count": 5,
      "outputs": [
        {
          "output_type": "execute_result",
          "data": {
            "text/plain": [
              "7"
            ]
          },
          "metadata": {},
          "execution_count": 5
        }
      ]
    },
    {
      "cell_type": "code",
      "source": [
        "#vector\n",
        "vector= torch.tensor([7,7])\n",
        "vector"
      ],
      "metadata": {
        "colab": {
          "base_uri": "https://localhost:8080/"
        },
        "id": "7h266I5Qph1w",
        "outputId": "9dd93805-97d6-47b8-d56b-c83dd4f0e2e1"
      },
      "execution_count": 6,
      "outputs": [
        {
          "output_type": "execute_result",
          "data": {
            "text/plain": [
              "tensor([7, 7])"
            ]
          },
          "metadata": {},
          "execution_count": 6
        }
      ]
    },
    {
      "cell_type": "code",
      "source": [
        "vector.ndim"
      ],
      "metadata": {
        "colab": {
          "base_uri": "https://localhost:8080/"
        },
        "id": "N1i2HfcypuVn",
        "outputId": "ecd378db-22e8-4e3c-b17e-1e7dbc8b7288"
      },
      "execution_count": 7,
      "outputs": [
        {
          "output_type": "execute_result",
          "data": {
            "text/plain": [
              "1"
            ]
          },
          "metadata": {},
          "execution_count": 7
        }
      ]
    },
    {
      "cell_type": "code",
      "source": [
        "vector.shape"
      ],
      "metadata": {
        "colab": {
          "base_uri": "https://localhost:8080/"
        },
        "id": "tTkYg-Tipy75",
        "outputId": "b99aba82-8bdb-46df-e1dc-cad36312227e"
      },
      "execution_count": 8,
      "outputs": [
        {
          "output_type": "execute_result",
          "data": {
            "text/plain": [
              "torch.Size([2])"
            ]
          },
          "metadata": {},
          "execution_count": 8
        }
      ]
    },
    {
      "cell_type": "code",
      "source": [
        "#matrix\n",
        "MATRIX= torch.tensor([[7,8],\n",
        "                      [9,10]])\n",
        "MATRIX"
      ],
      "metadata": {
        "colab": {
          "base_uri": "https://localhost:8080/"
        },
        "id": "hJ71p0MLp2oo",
        "outputId": "6bf78ea0-6751-4529-8dec-0f8cdf07924c"
      },
      "execution_count": 9,
      "outputs": [
        {
          "output_type": "execute_result",
          "data": {
            "text/plain": [
              "tensor([[ 7,  8],\n",
              "        [ 9, 10]])"
            ]
          },
          "metadata": {},
          "execution_count": 9
        }
      ]
    },
    {
      "cell_type": "code",
      "source": [
        "MATRIX.ndim"
      ],
      "metadata": {
        "colab": {
          "base_uri": "https://localhost:8080/"
        },
        "id": "0MUtuLvdqK0T",
        "outputId": "01491ed0-97f3-4258-bcc8-cde55c5ad99e"
      },
      "execution_count": 10,
      "outputs": [
        {
          "output_type": "execute_result",
          "data": {
            "text/plain": [
              "2"
            ]
          },
          "metadata": {},
          "execution_count": 10
        }
      ]
    },
    {
      "cell_type": "code",
      "source": [
        "MATRIX.shape\n"
      ],
      "metadata": {
        "colab": {
          "base_uri": "https://localhost:8080/"
        },
        "id": "VgJsf8cTqK8Y",
        "outputId": "dd6ab5ae-9b8a-4fca-8a8e-5e08bc125c9d"
      },
      "execution_count": 11,
      "outputs": [
        {
          "output_type": "execute_result",
          "data": {
            "text/plain": [
              "torch.Size([2, 2])"
            ]
          },
          "metadata": {},
          "execution_count": 11
        }
      ]
    },
    {
      "cell_type": "code",
      "source": [
        "#TENSOR\n",
        "TENSOR = torch.tensor([[[1,2,3],[3,6,9],[2,4,5]]])\n",
        "TENSOR"
      ],
      "metadata": {
        "colab": {
          "base_uri": "https://localhost:8080/"
        },
        "id": "RNJel-mPqbvb",
        "outputId": "b3f81974-f1dd-49c2-c6d5-d65c333b8921"
      },
      "execution_count": 12,
      "outputs": [
        {
          "output_type": "execute_result",
          "data": {
            "text/plain": [
              "tensor([[[1, 2, 3],\n",
              "         [3, 6, 9],\n",
              "         [2, 4, 5]]])"
            ]
          },
          "metadata": {},
          "execution_count": 12
        }
      ]
    },
    {
      "cell_type": "markdown",
      "source": [
        "##Random tensors\n",
        "\n",
        "why random tensors?\n",
        "\n",
        "Random tensors are important because the way many neural networks learn is that they start with tensors full of random numbers and then adjus those random numbers to better represent the data.\n",
        "\n",
        "'start with random numbers -> look at data -> update random numbers -> look at data -> update random numbers\n",
        "\n",
        "\n"
      ],
      "metadata": {
        "id": "_70CtHM9t_Y2"
      }
    },
    {
      "cell_type": "code",
      "source": [
        "#create a random tensor of size (3,4)\n",
        "random_tensor = torch.rand(3,4)\n",
        "random_tensor"
      ],
      "metadata": {
        "colab": {
          "base_uri": "https://localhost:8080/"
        },
        "id": "9AyfWrd2vTBH",
        "outputId": "fbf07c99-02c7-4fe5-c491-fe2606e0d8a1"
      },
      "execution_count": 13,
      "outputs": [
        {
          "output_type": "execute_result",
          "data": {
            "text/plain": [
              "tensor([[0.7493, 0.1738, 0.8018, 0.5527],\n",
              "        [0.4680, 0.7473, 0.6638, 0.7822],\n",
              "        [0.5910, 0.7466, 0.5637, 0.2114]])"
            ]
          },
          "metadata": {},
          "execution_count": 13
        }
      ]
    },
    {
      "cell_type": "code",
      "source": [
        "#create a random tensor with similar shape to an image tensor\n",
        "random_image_size_tensor= torch.rand(size=(3,224,224)) #color channels (R,G,B), height,width,color channels (R,G,B)\n",
        "random_image_size_tensor.shape, random_image_size_tensor.ndim"
      ],
      "metadata": {
        "colab": {
          "base_uri": "https://localhost:8080/"
        },
        "id": "9hqo5H2-vhDB",
        "outputId": "3195a6c0-5e29-4ac2-b6f8-d81f8ae79a5a"
      },
      "execution_count": 14,
      "outputs": [
        {
          "output_type": "execute_result",
          "data": {
            "text/plain": [
              "(torch.Size([3, 224, 224]), 3)"
            ]
          },
          "metadata": {},
          "execution_count": 14
        }
      ]
    },
    {
      "cell_type": "code",
      "source": [
        "torch.rand(size=(3,3))"
      ],
      "metadata": {
        "colab": {
          "base_uri": "https://localhost:8080/"
        },
        "id": "sXrHsU7Ewu17",
        "outputId": "42cdab8b-f4ec-4bfa-abac-54b7c548ab83"
      },
      "execution_count": 15,
      "outputs": [
        {
          "output_type": "execute_result",
          "data": {
            "text/plain": [
              "tensor([[0.6095, 0.5030, 0.8306],\n",
              "        [0.8961, 0.7066, 0.9412],\n",
              "        [0.4287, 0.6686, 0.8839]])"
            ]
          },
          "metadata": {},
          "execution_count": 15
        }
      ]
    },
    {
      "cell_type": "markdown",
      "source": [
        "##Zeros and Ones\n"
      ],
      "metadata": {
        "id": "5vftgJK-w_5D"
      }
    },
    {
      "cell_type": "code",
      "source": [
        "#create a tensor of all zeroes\n",
        "zeros = torch.zeros(size = (3,4))\n",
        "zeros\n",
        ""
      ],
      "metadata": {
        "colab": {
          "base_uri": "https://localhost:8080/"
        },
        "id": "-X2oTuwcxDP_",
        "outputId": "cb15bfb3-f2b1-4def-aca0-dd31b2533a77"
      },
      "execution_count": 16,
      "outputs": [
        {
          "output_type": "execute_result",
          "data": {
            "text/plain": [
              "tensor([[0., 0., 0., 0.],\n",
              "        [0., 0., 0., 0.],\n",
              "        [0., 0., 0., 0.]])"
            ]
          },
          "metadata": {},
          "execution_count": 16
        }
      ]
    },
    {
      "cell_type": "code",
      "source": [
        "#create a tensor of all ones\n",
        "ones= torch.ones(size = (3,4))\n",
        "ones"
      ],
      "metadata": {
        "colab": {
          "base_uri": "https://localhost:8080/"
        },
        "id": "4zDjXkZ_xONV",
        "outputId": "e63b237e-7ef0-42ad-9c91-df620a324c17"
      },
      "execution_count": 17,
      "outputs": [
        {
          "output_type": "execute_result",
          "data": {
            "text/plain": [
              "tensor([[1., 1., 1., 1.],\n",
              "        [1., 1., 1., 1.],\n",
              "        [1., 1., 1., 1.]])"
            ]
          },
          "metadata": {},
          "execution_count": 17
        }
      ]
    },
    {
      "cell_type": "code",
      "source": [
        "ones.dtype"
      ],
      "metadata": {
        "colab": {
          "base_uri": "https://localhost:8080/"
        },
        "id": "UGqt8125xWM8",
        "outputId": "be405f67-5775-4b96-ed36-b75da1cd479b"
      },
      "execution_count": 18,
      "outputs": [
        {
          "output_type": "execute_result",
          "data": {
            "text/plain": [
              "torch.float32"
            ]
          },
          "metadata": {},
          "execution_count": 18
        }
      ]
    },
    {
      "cell_type": "markdown",
      "source": [
        "##Creating a range of tensors and tensors-like\n",
        "\n"
      ],
      "metadata": {
        "id": "Y4pNkAe6K51H"
      }
    },
    {
      "cell_type": "code",
      "source": [
        "#use torch.range()\n",
        "one_to_ten=torch.arange(start=0,end=1000,step=100)\n",
        "one_to_ten"
      ],
      "metadata": {
        "colab": {
          "base_uri": "https://localhost:8080/"
        },
        "id": "AEyTlZdaxav8",
        "outputId": "bb2c9726-4af9-487c-ff11-bfc3e51ac752"
      },
      "execution_count": 19,
      "outputs": [
        {
          "output_type": "execute_result",
          "data": {
            "text/plain": [
              "tensor([  0, 100, 200, 300, 400, 500, 600, 700, 800, 900])"
            ]
          },
          "metadata": {},
          "execution_count": 19
        }
      ]
    },
    {
      "cell_type": "code",
      "source": [
        "#creating tensors like\n",
        "ten_zeroes= torch.zeros_like(input=one_to_ten)\n",
        "ten_zeroes"
      ],
      "metadata": {
        "colab": {
          "base_uri": "https://localhost:8080/"
        },
        "id": "wN53QSfjLL8y",
        "outputId": "c2f2d5f0-c1d7-43d2-b5d1-6b582be91fae"
      },
      "execution_count": 20,
      "outputs": [
        {
          "output_type": "execute_result",
          "data": {
            "text/plain": [
              "tensor([0, 0, 0, 0, 0, 0, 0, 0, 0, 0])"
            ]
          },
          "metadata": {},
          "execution_count": 20
        }
      ]
    },
    {
      "cell_type": "markdown",
      "source": [
        "###Tensor datatypes\n",
        "Default=torch.float32\n",
        "(also called single precision floating point)\n",
        "Most commonly used is 32 and 16-bit floating point(also called half precision floating point.it is less precise but fast)\n",
        "\n"
      ],
      "metadata": {
        "id": "HRYGcejTMsdX"
      }
    },
    {
      "cell_type": "code",
      "source": [
        "#Float 32 tensor for default case\n",
        "float_32_tensor= torch.tensor([3.0,6.0,9.0])\n",
        "float_32_tensor"
      ],
      "metadata": {
        "colab": {
          "base_uri": "https://localhost:8080/"
        },
        "id": "q4KmXqBPMrJf",
        "outputId": "2b8fd027-ce57-47d4-8d76-b6d2d7896409"
      },
      "execution_count": 21,
      "outputs": [
        {
          "output_type": "execute_result",
          "data": {
            "text/plain": [
              "tensor([3., 6., 9.])"
            ]
          },
          "metadata": {},
          "execution_count": 21
        }
      ]
    },
    {
      "cell_type": "markdown",
      "source": [
        "Tensor datatypes can include errors due to:\n",
        "- Not right datatype\n",
        "- Not right shape\n",
        "- Not on the right device"
      ],
      "metadata": {
        "id": "uRYhOe6IOZe5"
      }
    },
    {
      "cell_type": "code",
      "source": [
        "#Float 32 tensor\n",
        "float_32_tensor= torch.tensor([3.0,6.0,9.0],\n",
        "                              dtype=None, #what datatype is the tensor\n",
        "                              device=None, #by default is CPU, could be gpu(cuda)too\n",
        "                              requires_grad=False #whether or not to track gradients with this tensor operation\n",
        "                              )\n",
        "\n",
        "float_32_tensor"
      ],
      "metadata": {
        "colab": {
          "base_uri": "https://localhost:8080/"
        },
        "id": "SZugmoeaMgJ9",
        "outputId": "20456045-3e61-4c48-fb3c-436bb7eb7f0b"
      },
      "execution_count": 22,
      "outputs": [
        {
          "output_type": "execute_result",
          "data": {
            "text/plain": [
              "tensor([3., 6., 9.])"
            ]
          },
          "metadata": {},
          "execution_count": 22
        }
      ]
    },
    {
      "cell_type": "code",
      "source": [
        "float_32_tensor.dtype"
      ],
      "metadata": {
        "colab": {
          "base_uri": "https://localhost:8080/"
        },
        "id": "t-j-uOb4Mr3F",
        "outputId": "fddd89cd-cdf2-404a-9256-b0b0fb9c6f67"
      },
      "execution_count": 23,
      "outputs": [
        {
          "output_type": "execute_result",
          "data": {
            "text/plain": [
              "torch.float32"
            ]
          },
          "metadata": {},
          "execution_count": 23
        }
      ]
    },
    {
      "cell_type": "code",
      "source": [
        "#converting float 32 tensor to float 16 tensor\n",
        "float_16_tensor = float_32_tensor.type(torch.float16)\n",
        "float_16_tensor"
      ],
      "metadata": {
        "colab": {
          "base_uri": "https://localhost:8080/"
        },
        "id": "ZFKXIpXKPUVU",
        "outputId": "0298b81a-ad5b-4258-8e03-93cb364472b6"
      },
      "execution_count": 24,
      "outputs": [
        {
          "output_type": "execute_result",
          "data": {
            "text/plain": [
              "tensor([3., 6., 9.], dtype=torch.float16)"
            ]
          },
          "metadata": {},
          "execution_count": 24
        }
      ]
    },
    {
      "cell_type": "code",
      "source": [
        "float_16_tensor * float_32_tensor"
      ],
      "metadata": {
        "colab": {
          "base_uri": "https://localhost:8080/"
        },
        "id": "b_RHhM_aPbuv",
        "outputId": "cd271fd3-2518-484d-ab40-692a1ca2c420"
      },
      "execution_count": 25,
      "outputs": [
        {
          "output_type": "execute_result",
          "data": {
            "text/plain": [
              "tensor([ 9., 36., 81.])"
            ]
          },
          "metadata": {},
          "execution_count": 25
        }
      ]
    },
    {
      "cell_type": "code",
      "source": [
        "float_32_tensor.dtype"
      ],
      "metadata": {
        "colab": {
          "base_uri": "https://localhost:8080/"
        },
        "id": "iPIyECqcodNc",
        "outputId": "d6cb921c-00ce-438d-fe71-6c0e44870be5"
      },
      "execution_count": 26,
      "outputs": [
        {
          "output_type": "execute_result",
          "data": {
            "text/plain": [
              "torch.float32"
            ]
          },
          "metadata": {},
          "execution_count": 26
        }
      ]
    },
    {
      "cell_type": "code",
      "source": [
        "float_16_tensor.dtype"
      ],
      "metadata": {
        "colab": {
          "base_uri": "https://localhost:8080/"
        },
        "id": "_wKflIrRoqVM",
        "outputId": "38118f1f-9e61-4d3a-9384-d2743344b2eb"
      },
      "execution_count": 27,
      "outputs": [
        {
          "output_type": "execute_result",
          "data": {
            "text/plain": [
              "torch.float16"
            ]
          },
          "metadata": {},
          "execution_count": 27
        }
      ]
    },
    {
      "cell_type": "markdown",
      "source": [
        "#Getting information from tensors(Tensor attributes)\n",
        "\n",
        "- Not right datatype:  to get the datatype from a tensor, use 'tensor.dtype'\n",
        "- Not right shape - to get shape from a tensor, use 'tensor.shape'\n",
        "- Not on the right device - to get device from a tensor, use 'tensor.device'"
      ],
      "metadata": {
        "id": "ZiysXAdipFAv"
      }
    },
    {
      "cell_type": "code",
      "source": [
        "#create a tensor\n",
        "some_tensor=torch.rand(3,4)\n",
        "some_tensor"
      ],
      "metadata": {
        "colab": {
          "base_uri": "https://localhost:8080/"
        },
        "id": "O_JlZQKGpifK",
        "outputId": "ff1242ab-036f-4312-a604-bef8d398b46f"
      },
      "execution_count": 28,
      "outputs": [
        {
          "output_type": "execute_result",
          "data": {
            "text/plain": [
              "tensor([[0.5311, 0.4622, 0.7642, 0.1219],\n",
              "        [0.3934, 0.0618, 0.2753, 0.0276],\n",
              "        [0.1928, 0.2297, 0.1635, 0.1449]])"
            ]
          },
          "metadata": {},
          "execution_count": 28
        }
      ]
    },
    {
      "cell_type": "code",
      "source": [
        "#to find details of the tensor above\n",
        "print(some_tensor)\n",
        "print(f\"Datatype of tensor: {some_tensor.dtype}\")\n",
        "print(f\"Shape of tensor:{some_tensor.shape}\")\n",
        "print(f\"Device the tensor is on: {some_tensor.device}\")"
      ],
      "metadata": {
        "colab": {
          "base_uri": "https://localhost:8080/"
        },
        "id": "90bvAYkxpoCL",
        "outputId": "6b624a51-88b0-4a4d-eeda-3043e0dfa57c"
      },
      "execution_count": 29,
      "outputs": [
        {
          "output_type": "stream",
          "name": "stdout",
          "text": [
            "tensor([[0.5311, 0.4622, 0.7642, 0.1219],\n",
            "        [0.3934, 0.0618, 0.2753, 0.0276],\n",
            "        [0.1928, 0.2297, 0.1635, 0.1449]])\n",
            "Datatype of tensor: torch.float32\n",
            "Shape of tensor:torch.Size([3, 4])\n",
            "Device the tensor is on: cpu\n"
          ]
        }
      ]
    },
    {
      "cell_type": "markdown",
      "source": [
        "\n",
        "\n",
        "##Manipulating Tensors\n",
        "Tensor operations include:\n",
        "- Addition\n",
        "- subtraction\n",
        "- multiplication(element wise)\n",
        "- division\n",
        "- matrix multiplication\n",
        "\n"
      ],
      "metadata": {
        "id": "0NkmzOzzsu6l"
      }
    },
    {
      "cell_type": "code",
      "source": [
        "#create a tensor and add\n",
        "tensor= torch.tensor([1,2,3])\n",
        "tensor + 10"
      ],
      "metadata": {
        "colab": {
          "base_uri": "https://localhost:8080/"
        },
        "id": "oMXS3zIaswoN",
        "outputId": "f78e7aa6-eb31-4837-8e4f-f94a0df63592"
      },
      "execution_count": 30,
      "outputs": [
        {
          "output_type": "execute_result",
          "data": {
            "text/plain": [
              "tensor([11, 12, 13])"
            ]
          },
          "metadata": {},
          "execution_count": 30
        }
      ]
    },
    {
      "cell_type": "code",
      "source": [
        "#multiply\n",
        "tensor = tensor *10\n",
        "tensor"
      ],
      "metadata": {
        "colab": {
          "base_uri": "https://localhost:8080/"
        },
        "id": "DbG0Ve1jtF8W",
        "outputId": "fe7797aa-9d2a-47a2-d861-9613ed8893dc"
      },
      "execution_count": 31,
      "outputs": [
        {
          "output_type": "execute_result",
          "data": {
            "text/plain": [
              "tensor([10, 20, 30])"
            ]
          },
          "metadata": {},
          "execution_count": 31
        }
      ]
    },
    {
      "cell_type": "code",
      "source": [
        "#divison\n",
        "tensor/10"
      ],
      "metadata": {
        "colab": {
          "base_uri": "https://localhost:8080/"
        },
        "id": "h_UFGl5tstdG",
        "outputId": "1cf0b999-3e8d-4aa4-edfe-ab93d23944a6"
      },
      "execution_count": 32,
      "outputs": [
        {
          "output_type": "execute_result",
          "data": {
            "text/plain": [
              "tensor([1., 2., 3.])"
            ]
          },
          "metadata": {},
          "execution_count": 32
        }
      ]
    },
    {
      "cell_type": "code",
      "source": [
        "#using in-built functions\n",
        "torch.mul(tensor,10)\n",
        "torch.add(tensor,10)\n",
        "\n"
      ],
      "metadata": {
        "colab": {
          "base_uri": "https://localhost:8080/"
        },
        "id": "dXNrDt9yqfi1",
        "outputId": "3f7e4e25-e152-4269-a70a-dacd911990de"
      },
      "execution_count": 33,
      "outputs": [
        {
          "output_type": "execute_result",
          "data": {
            "text/plain": [
              "tensor([20, 30, 40])"
            ]
          },
          "metadata": {},
          "execution_count": 33
        }
      ]
    },
    {
      "cell_type": "markdown",
      "source": [
        "#Matrix Multiplication\n",
        "rules:\n",
        "\n",
        "- Inner dimension must match\n",
        "\n",
        ". (3,2) @ (3,2) wont work\n",
        "\n",
        ". (2,3) @ (3,2) will work\n",
        "\n",
        ". (3,2) @ (2,3) will work\n",
        "\n",
        "- Resulting matrix has the shape of the outer dimension\n",
        "\n",
        ".  (2,3) @ (3,2) -> (2,2)\n",
        "\n",
        ".  (3,2) @ (2, 3) -> (3,3)"
      ],
      "metadata": {
        "id": "mv2DUFHOt-3i"
      }
    },
    {
      "cell_type": "code",
      "source": [
        "#element wise multiplication\n",
        "print(tensor, \"*\", tensor)\n",
        "print(f\"Equals: {tensor * tensor}\")"
      ],
      "metadata": {
        "colab": {
          "base_uri": "https://localhost:8080/"
        },
        "id": "L-q90dWFt5kn",
        "outputId": "db43e9a9-d3a6-4105-9417-27ac5929f38f"
      },
      "execution_count": 34,
      "outputs": [
        {
          "output_type": "stream",
          "name": "stdout",
          "text": [
            "tensor([10, 20, 30]) * tensor([10, 20, 30])\n",
            "Equals: tensor([100, 400, 900])\n"
          ]
        }
      ]
    },
    {
      "cell_type": "code",
      "source": [
        "#matrix multiplication\n",
        "torch.matmul(tensor,tensor) #recommended\n",
        "# tensor @ tensor , can be used instead"
      ],
      "metadata": {
        "colab": {
          "base_uri": "https://localhost:8080/"
        },
        "id": "UJ2TxnnjuYLr",
        "outputId": "bb94502e-04ae-4eeb-88ed-b2f6289dd759"
      },
      "execution_count": 35,
      "outputs": [
        {
          "output_type": "execute_result",
          "data": {
            "text/plain": [
              "tensor(1400)"
            ]
          },
          "metadata": {},
          "execution_count": 35
        }
      ]
    },
    {
      "cell_type": "code",
      "source": [
        " torch.matmul(torch.rand(3,10), torch.rand(10,3))"
      ],
      "metadata": {
        "colab": {
          "base_uri": "https://localhost:8080/"
        },
        "id": "NqRy-jT7udop",
        "outputId": "8b754900-b854-4573-eb97-217ffea2657e"
      },
      "execution_count": 36,
      "outputs": [
        {
          "output_type": "execute_result",
          "data": {
            "text/plain": [
              "tensor([[3.6330, 3.2939, 2.3831],\n",
              "        [0.9242, 1.7996, 0.7586],\n",
              "        [2.3743, 1.6566, 1.3308]])"
            ]
          },
          "metadata": {},
          "execution_count": 36
        }
      ]
    },
    {
      "cell_type": "code",
      "source": [
        "#to fix shape issue, we transpose one matrix\n",
        "tensor_a = torch.tensor([[1, 2],\n",
        "                         [3, 4],\n",
        "                         [5, 6]])\n",
        "\n",
        "tensor_b = torch.tensor([[7, 10],\n",
        "                         [8, 11],\n",
        "                         [9, 12]])\n",
        "tensor_a, tensor_b, tensor_b.T"
      ],
      "metadata": {
        "colab": {
          "base_uri": "https://localhost:8080/"
        },
        "id": "-sBjuAf5yFnU",
        "outputId": "945aa044-6d91-4791-c66f-457948d293e6"
      },
      "execution_count": 42,
      "outputs": [
        {
          "output_type": "execute_result",
          "data": {
            "text/plain": [
              "(tensor([[1, 2],\n",
              "         [3, 4],\n",
              "         [5, 6]]),\n",
              " tensor([[ 7, 10],\n",
              "         [ 8, 11],\n",
              "         [ 9, 12]]),\n",
              " tensor([[ 7,  8,  9],\n",
              "         [10, 11, 12]]))"
            ]
          },
          "metadata": {},
          "execution_count": 42
        }
      ]
    },
    {
      "cell_type": "code",
      "source": [
        "print(f\"Original shapes: tensor_a = {tensor_a.shape}, tensor_b= {tensor_b.shape}\")\n",
        "print(f\"New shapes: tensor_a = {tensor_a.shape}, tensor_b.T= {tensor_b.T.shape}\")\n",
        "print(f\"Multiplying: {tensor_a.shape} @ {tensor_b.T.shape}\")\n",
        "print(\"\\nOutput:\\n\")\n",
        "output = torch.mm(tensor_a, tensor_b.T)\n",
        "print(output)\n",
        "print(f\"Output shape= {output.shape}\")\n",
        "\n"
      ],
      "metadata": {
        "colab": {
          "base_uri": "https://localhost:8080/"
        },
        "id": "05fjBP0tyWc4",
        "outputId": "82f0dd42-a68d-4720-840d-c76d9007c0e6"
      },
      "execution_count": 43,
      "outputs": [
        {
          "output_type": "stream",
          "name": "stdout",
          "text": [
            "Original shapes: tensor_a = torch.Size([3, 2]), tensor_b= torch.Size([3, 2])\n",
            "New shapes: tensor_a = torch.Size([3, 2]), tensor_b.T= torch.Size([2, 3])\n",
            "Multiplying: torch.Size([3, 2]) @ torch.Size([2, 3])\n",
            "\n",
            "Output:\n",
            "\n",
            "tensor([[ 27,  30,  33],\n",
            "        [ 61,  68,  75],\n",
            "        [ 95, 106, 117]])\n",
            "Output shape= torch.Size([3, 3])\n"
          ]
        }
      ]
    },
    {
      "cell_type": "markdown",
      "source": [
        "##Tensor aggregation\n",
        "Finding min,max, mean, sum,etc"
      ],
      "metadata": {
        "id": "cCkNe6tX0d0U"
      }
    },
    {
      "cell_type": "code",
      "source": [
        "#create a tensor\n",
        "x= torch.arange(1,100,10)\n",
        "x"
      ],
      "metadata": {
        "colab": {
          "base_uri": "https://localhost:8080/"
        },
        "id": "8vxKpcw1ywl1",
        "outputId": "1acadb8f-3999-49d0-8eb5-3c697fb2addc"
      },
      "execution_count": 44,
      "outputs": [
        {
          "output_type": "execute_result",
          "data": {
            "text/plain": [
              "tensor([ 1, 11, 21, 31, 41, 51, 61, 71, 81, 91])"
            ]
          },
          "metadata": {},
          "execution_count": 44
        }
      ]
    },
    {
      "cell_type": "code",
      "source": [
        "#min\n",
        "#torch.min(x)\n",
        "x.min()"
      ],
      "metadata": {
        "colab": {
          "base_uri": "https://localhost:8080/"
        },
        "id": "S-XC8iqb01Ki",
        "outputId": "fbba8bdd-6cf2-437d-a057-ecd344410859"
      },
      "execution_count": 45,
      "outputs": [
        {
          "output_type": "execute_result",
          "data": {
            "text/plain": [
              "tensor(1)"
            ]
          },
          "metadata": {},
          "execution_count": 45
        }
      ]
    },
    {
      "cell_type": "code",
      "source": [
        "#max\n",
        "torch.max(x)\n",
        "#x.max()"
      ],
      "metadata": {
        "colab": {
          "base_uri": "https://localhost:8080/"
        },
        "id": "zMYYa_QG0-4C",
        "outputId": "e658d558-258f-4d72-c1b0-4ecbe86b57fd"
      },
      "execution_count": 46,
      "outputs": [
        {
          "output_type": "execute_result",
          "data": {
            "text/plain": [
              "tensor(91)"
            ]
          },
          "metadata": {},
          "execution_count": 46
        }
      ]
    },
    {
      "cell_type": "code",
      "source": [
        "#mean: the function requirres a tensor of float32 datatype instead of long\n",
        "torch.mean(x.type(torch.float32)), x.type(torch.float32).mean()"
      ],
      "metadata": {
        "colab": {
          "base_uri": "https://localhost:8080/"
        },
        "id": "cCiYW0Cy1HYm",
        "outputId": "182036b6-f06c-43b8-fb92-afcb54ac35f7"
      },
      "execution_count": 47,
      "outputs": [
        {
          "output_type": "execute_result",
          "data": {
            "text/plain": [
              "(tensor(46.), tensor(46.))"
            ]
          },
          "metadata": {},
          "execution_count": 47
        }
      ]
    },
    {
      "cell_type": "code",
      "source": [
        "#sum\n",
        "torch.sum(x) , x.sum()\n"
      ],
      "metadata": {
        "colab": {
          "base_uri": "https://localhost:8080/"
        },
        "id": "p7jxF6eE1Rh4",
        "outputId": "fd18d107-4b65-4667-ff80-800b7a9f7e8b"
      },
      "execution_count": 48,
      "outputs": [
        {
          "output_type": "execute_result",
          "data": {
            "text/plain": [
              "(tensor(460), tensor(460))"
            ]
          },
          "metadata": {},
          "execution_count": 48
        }
      ]
    },
    {
      "cell_type": "code",
      "source": [
        "#positional min max\n",
        "x.argmin(), x.argmax() #find the position in tensor that has\n",
        "                       #the minimum value->returns index position"
      ],
      "metadata": {
        "colab": {
          "base_uri": "https://localhost:8080/"
        },
        "id": "Fb2HFXKP1qwH",
        "outputId": "19fbd35d-662a-4691-a4b2-030560bd46fa"
      },
      "execution_count": 49,
      "outputs": [
        {
          "output_type": "execute_result",
          "data": {
            "text/plain": [
              "(tensor(0), tensor(9))"
            ]
          },
          "metadata": {},
          "execution_count": 49
        }
      ]
    },
    {
      "cell_type": "code",
      "source": [
        "x[0], x[9]"
      ],
      "metadata": {
        "colab": {
          "base_uri": "https://localhost:8080/"
        },
        "id": "e7JmT8b72UcL",
        "outputId": "5104f2c8-fe00-4eec-e3f8-e4e04880d9c7"
      },
      "execution_count": 50,
      "outputs": [
        {
          "output_type": "execute_result",
          "data": {
            "text/plain": [
              "(tensor(1), tensor(91))"
            ]
          },
          "metadata": {},
          "execution_count": 50
        }
      ]
    },
    {
      "cell_type": "markdown",
      "source": [
        "#reshaping, stacking, squeezing and unsqeezing tensors\n",
        "* reshaping: reshape an input tensor to a defined shape\n",
        "* view: return a view of an input tensor of certain shape but keep the same memory as the original tensor\n",
        "* stacking: combine multiple tensors on top of each other(vstack) or side by side (hstack)  \n",
        "* squeeze: removes all '1' dimensions from a tensor\n",
        "* unsqueeze: add a '1' dimension to a target tensor\n",
        "* permute: return a view of the input with dimensions permuted (swapped) in a certain way"
      ],
      "metadata": {
        "id": "h_FrTa9c3Aqn"
      }
    },
    {
      "cell_type": "code",
      "source": [
        "#create a tensor\n",
        "y= torch.arange(1.,10.)\n",
        "y, y.shape"
      ],
      "metadata": {
        "colab": {
          "base_uri": "https://localhost:8080/"
        },
        "id": "IzlF-ydR2XMj",
        "outputId": "4040a127-b5c5-454e-e768-3499e19b4fbc"
      },
      "execution_count": 51,
      "outputs": [
        {
          "output_type": "execute_result",
          "data": {
            "text/plain": [
              "(tensor([1., 2., 3., 4., 5., 6., 7., 8., 9.]), torch.Size([9]))"
            ]
          },
          "metadata": {},
          "execution_count": 51
        }
      ]
    },
    {
      "cell_type": "code",
      "source": [
        "#add an extra dimension\n",
        "y_reshaped= y.reshape(1,9) #9 *1 =9 i.e the size of the tensor\n",
        "y_reshaped , y_reshaped.shape"
      ],
      "metadata": {
        "colab": {
          "base_uri": "https://localhost:8080/"
        },
        "id": "L8E38xhm4CB4",
        "outputId": "126e806c-e261-4597-fb8f-a2a27a752cfa"
      },
      "execution_count": 52,
      "outputs": [
        {
          "output_type": "execute_result",
          "data": {
            "text/plain": [
              "(tensor([[1., 2., 3., 4., 5., 6., 7., 8., 9.]]), torch.Size([1, 9]))"
            ]
          },
          "metadata": {},
          "execution_count": 52
        }
      ]
    },
    {
      "cell_type": "code",
      "source": [
        "#change the view\n",
        "z=y.view(1,9) #z is just another view of y as view of a tensor\n",
        "              #shares the same memory as the original input\n",
        "              #changes in z changes y\n",
        "z, z.shape"
      ],
      "metadata": {
        "colab": {
          "base_uri": "https://localhost:8080/"
        },
        "id": "RkpwMGZL5Ayt",
        "outputId": "9af16dbd-df0c-4cf1-ca66-c69332fddf80"
      },
      "execution_count": 53,
      "outputs": [
        {
          "output_type": "execute_result",
          "data": {
            "text/plain": [
              "(tensor([[1., 2., 3., 4., 5., 6., 7., 8., 9.]]), torch.Size([1, 9]))"
            ]
          },
          "metadata": {},
          "execution_count": 53
        }
      ]
    },
    {
      "cell_type": "code",
      "source": [
        "#stack tensors on top of eachother\n",
        "y_stacked= torch.stack([y,y,y,y],dim=0)\n",
        "y_stacked"
      ],
      "metadata": {
        "colab": {
          "base_uri": "https://localhost:8080/"
        },
        "id": "M7uIbA_Z4YS4",
        "outputId": "307e53ec-c410-4dbc-9edc-ccbf91ffbe61"
      },
      "execution_count": 54,
      "outputs": [
        {
          "output_type": "execute_result",
          "data": {
            "text/plain": [
              "tensor([[1., 2., 3., 4., 5., 6., 7., 8., 9.],\n",
              "        [1., 2., 3., 4., 5., 6., 7., 8., 9.],\n",
              "        [1., 2., 3., 4., 5., 6., 7., 8., 9.],\n",
              "        [1., 2., 3., 4., 5., 6., 7., 8., 9.]])"
            ]
          },
          "metadata": {},
          "execution_count": 54
        }
      ]
    },
    {
      "cell_type": "code",
      "source": [
        "#torch.squeeze() that removes all single dimension from a target tensor\n",
        "print(f\"Previous tensor: {y_reshaped}\")\n",
        "print(f\"Previous shape: {y_reshaped.shape}\")\n",
        "y_squeezed = y_reshaped.squeeze()\n",
        "\n",
        "print(f\"New tensor: {y_squeezed}\")\n",
        "print(f\"New shape: {y_squeezed.shape}\")"
      ],
      "metadata": {
        "colab": {
          "base_uri": "https://localhost:8080/"
        },
        "id": "jMCRoxG-7L-a",
        "outputId": "5a4f9fae-72cc-4bbe-ea4d-3af4b0e78821"
      },
      "execution_count": 55,
      "outputs": [
        {
          "output_type": "stream",
          "name": "stdout",
          "text": [
            "Previous tensor: tensor([[1., 2., 3., 4., 5., 6., 7., 8., 9.]])\n",
            "Previous shape: torch.Size([1, 9])\n",
            "New tensor: tensor([1., 2., 3., 4., 5., 6., 7., 8., 9.])\n",
            "New shape: torch.Size([9])\n"
          ]
        }
      ]
    },
    {
      "cell_type": "code",
      "source": [
        "#torch.unsqueeze()\n",
        "print(f\"Previous tensor: {y_squeezed}\")\n",
        "print(f\"Previous shape: {y_squeezed.shape}\")\n",
        "y_unsqueezed = y_squeezed.unsqueeze(dim=0)\n",
        "\n",
        "print(f\"New tensor: {y_unsqueezed}\")\n",
        "print(f\"New shape: {y_unsqueezed.shape}\")"
      ],
      "metadata": {
        "colab": {
          "base_uri": "https://localhost:8080/"
        },
        "id": "JBPw7EID72Gt",
        "outputId": "430c3cdb-7009-4bcb-f7fd-ade47ea2688f"
      },
      "execution_count": 56,
      "outputs": [
        {
          "output_type": "stream",
          "name": "stdout",
          "text": [
            "Previous tensor: tensor([1., 2., 3., 4., 5., 6., 7., 8., 9.])\n",
            "Previous shape: torch.Size([9])\n",
            "New tensor: tensor([[1., 2., 3., 4., 5., 6., 7., 8., 9.]])\n",
            "New shape: torch.Size([1, 9])\n"
          ]
        }
      ]
    },
    {
      "cell_type": "code",
      "source": [
        "#torch.permute\n",
        "y_original = torch.rand(size=(224,224,3)) #height,width, colour_channels\n",
        "y_original\n",
        "#permute\n",
        "y_permuted= y_original.permute(2,0,1)\n",
        "y_permuted"
      ],
      "metadata": {
        "colab": {
          "base_uri": "https://localhost:8080/"
        },
        "id": "K0LQ3ESn8Xzc",
        "outputId": "89e85d5f-410f-47de-a054-f36f9034592b"
      },
      "execution_count": 57,
      "outputs": [
        {
          "output_type": "execute_result",
          "data": {
            "text/plain": [
              "tensor([[[0.4860, 0.1862, 0.5548,  ..., 0.5725, 0.8768, 0.8802],\n",
              "         [0.5526, 0.7170, 0.2032,  ..., 0.5840, 0.7539, 0.4682],\n",
              "         [0.5864, 0.2474, 0.1152,  ..., 0.9411, 0.4117, 0.2716],\n",
              "         ...,\n",
              "         [0.6690, 0.1639, 0.5383,  ..., 0.7779, 0.5287, 0.8859],\n",
              "         [0.8642, 0.8138, 0.4060,  ..., 0.8698, 0.3991, 0.3829],\n",
              "         [0.3932, 0.0855, 0.3979,  ..., 0.6141, 0.4160, 0.2397]],\n",
              "\n",
              "        [[0.6699, 0.2591, 0.2270,  ..., 0.6058, 0.5165, 0.7830],\n",
              "         [0.6373, 0.0673, 0.6765,  ..., 0.2701, 0.2143, 0.8663],\n",
              "         [0.7441, 0.3418, 0.8325,  ..., 0.7188, 0.9090, 0.8773],\n",
              "         ...,\n",
              "         [0.9680, 0.9341, 0.0407,  ..., 0.8163, 0.7391, 0.5898],\n",
              "         [0.5001, 0.1737, 0.1323,  ..., 0.8327, 0.6826, 0.5200],\n",
              "         [0.7135, 0.6660, 0.1065,  ..., 0.9201, 0.3426, 0.9798]],\n",
              "\n",
              "        [[0.1172, 0.5763, 0.3615,  ..., 0.9706, 0.9774, 0.1879],\n",
              "         [0.9433, 0.9957, 0.7245,  ..., 0.2815, 0.3111, 0.1040],\n",
              "         [0.8655, 0.8977, 0.5483,  ..., 0.7962, 0.5672, 0.6411],\n",
              "         ...,\n",
              "         [0.8927, 0.8839, 0.4471,  ..., 0.4928, 0.1203, 0.3900],\n",
              "         [0.7778, 0.3302, 0.6571,  ..., 0.7892, 0.2274, 0.4178],\n",
              "         [0.4520, 0.5284, 0.4891,  ..., 0.4294, 0.9570, 0.5340]]])"
            ]
          },
          "metadata": {},
          "execution_count": 57
        }
      ]
    },
    {
      "cell_type": "markdown",
      "source": [
        "#Indexing (selecting data from tensors)\n"
      ],
      "metadata": {
        "id": "AWwnkXso--Z9"
      }
    },
    {
      "cell_type": "code",
      "source": [
        "#create a tensor\n",
        "x= torch.arange(1,10).reshape(1,3,3)\n",
        "x, x.shape"
      ],
      "metadata": {
        "colab": {
          "base_uri": "https://localhost:8080/"
        },
        "id": "F2yyChSS8CSM",
        "outputId": "53937e31-e6af-4923-a2c6-4b37ac1e9fcd"
      },
      "execution_count": 58,
      "outputs": [
        {
          "output_type": "execute_result",
          "data": {
            "text/plain": [
              "(tensor([[[1, 2, 3],\n",
              "          [4, 5, 6],\n",
              "          [7, 8, 9]]]),\n",
              " torch.Size([1, 3, 3]))"
            ]
          },
          "metadata": {},
          "execution_count": 58
        }
      ]
    },
    {
      "cell_type": "code",
      "source": [
        "#index on our new tensor\n",
        "x[0], x[0][0], x[0][0][0] #x[1][0][0] can't be used as the dimension is 1,3,3"
      ],
      "metadata": {
        "colab": {
          "base_uri": "https://localhost:8080/"
        },
        "id": "lAuVHZmF-_4f",
        "outputId": "4bad6421-9732-4a42-d3ce-1b86190a9938"
      },
      "execution_count": 59,
      "outputs": [
        {
          "output_type": "execute_result",
          "data": {
            "text/plain": [
              "(tensor([[1, 2, 3],\n",
              "         [4, 5, 6],\n",
              "         [7, 8, 9]]),\n",
              " tensor([1, 2, 3]),\n",
              " tensor(1))"
            ]
          },
          "metadata": {},
          "execution_count": 59
        }
      ]
    },
    {
      "cell_type": "markdown",
      "source": [
        "try different ways of indexing on your own"
      ],
      "metadata": {
        "id": "QgRigEMW_-_Y"
      }
    },
    {
      "cell_type": "markdown",
      "source": [
        "##PyTorch tensors and NumPy\n",
        "\n",
        "Numpy is a popular scientific Python numerical computing library\n"
      ],
      "metadata": {
        "id": "TZAsMCCcAOR9"
      }
    },
    {
      "cell_type": "code",
      "source": [
        "#NumPy array to tensor\n",
        "import torch\n",
        "import numpy as np\n",
        "\n",
        "array= np.arange(1.0,8.0)\n",
        "tensor= torch.from_numpy(array) #default datatype float64 when converting from numpy\n",
        "array, tensor"
      ],
      "metadata": {
        "colab": {
          "base_uri": "https://localhost:8080/"
        },
        "id": "bS3e6H1C_MwV",
        "outputId": "71bae588-62e5-4338-db86-778eb01319f8"
      },
      "execution_count": 60,
      "outputs": [
        {
          "output_type": "execute_result",
          "data": {
            "text/plain": [
              "(array([1., 2., 3., 4., 5., 6., 7.]),\n",
              " tensor([1., 2., 3., 4., 5., 6., 7.], dtype=torch.float64))"
            ]
          },
          "metadata": {},
          "execution_count": 60
        }
      ]
    },
    {
      "cell_type": "code",
      "source": [
        "#change the value of array, effect on tensor\n",
        "array = array +1\n",
        "array, tensor"
      ],
      "metadata": {
        "colab": {
          "base_uri": "https://localhost:8080/"
        },
        "id": "tjmYzCHWA0cH",
        "outputId": "c0dadbb5-76c7-4550-b0a9-5904dd99bd2f"
      },
      "execution_count": 61,
      "outputs": [
        {
          "output_type": "execute_result",
          "data": {
            "text/plain": [
              "(array([2., 3., 4., 5., 6., 7., 8.]),\n",
              " tensor([1., 2., 3., 4., 5., 6., 7.], dtype=torch.float64))"
            ]
          },
          "metadata": {},
          "execution_count": 61
        }
      ]
    },
    {
      "cell_type": "markdown",
      "source": [
        "thus, no change\n",
        "\n"
      ],
      "metadata": {
        "id": "bp8KKWklBb0i"
      }
    },
    {
      "cell_type": "code",
      "source": [
        "#tensor to numpy array\n",
        "tensor = torch.ones(7)\n",
        "numpy_tensor=tensor.numpy()\n",
        "tensor, numpy_tensor\n"
      ],
      "metadata": {
        "colab": {
          "base_uri": "https://localhost:8080/"
        },
        "id": "c0WhkfRgBjDR",
        "outputId": "b98f013e-b204-47fd-9f4c-1dca73628d36"
      },
      "execution_count": 62,
      "outputs": [
        {
          "output_type": "execute_result",
          "data": {
            "text/plain": [
              "(tensor([1., 1., 1., 1., 1., 1., 1.]),\n",
              " array([1., 1., 1., 1., 1., 1., 1.], dtype=float32))"
            ]
          },
          "metadata": {},
          "execution_count": 62
        }
      ]
    },
    {
      "cell_type": "markdown",
      "source": [
        "#Reproducibility (trying to take random out of random)\n",
        "\n",
        " to reduce randomness in neural networks, pytorch comes with the concpet of a **random seed**.\n",
        " It flavours the randomness."
      ],
      "metadata": {
        "id": "KcjR_loADiJW"
      }
    },
    {
      "cell_type": "code",
      "source": [
        "\n",
        "import torch\n",
        "\n",
        "#set random seed\n",
        "RANDOM_SEED = 42\n",
        "torch.manual_seed(RANDOM_SEED)\n",
        "\n",
        "random_tensor_c = torch.rand(3,4)\n",
        "torch.manual_seed(RANDOM_SEED)\n",
        "\n",
        "random_tensor_d = torch.rand(3,4)\n",
        "\n",
        "print(random_tensor_c)\n",
        "print(random_tensor_d)\n",
        "print(random_tensor_c == random_tensor_d)"
      ],
      "metadata": {
        "colab": {
          "base_uri": "https://localhost:8080/"
        },
        "id": "ezBCs56CBtI_",
        "outputId": "0cda4731-6fc8-4cfb-c2b1-9f1101443273"
      },
      "execution_count": 63,
      "outputs": [
        {
          "output_type": "stream",
          "name": "stdout",
          "text": [
            "tensor([[0.8823, 0.9150, 0.3829, 0.9593],\n",
            "        [0.3904, 0.6009, 0.2566, 0.7936],\n",
            "        [0.9408, 0.1332, 0.9346, 0.5936]])\n",
            "tensor([[0.8823, 0.9150, 0.3829, 0.9593],\n",
            "        [0.3904, 0.6009, 0.2566, 0.7936],\n",
            "        [0.9408, 0.1332, 0.9346, 0.5936]])\n",
            "tensor([[True, True, True, True],\n",
            "        [True, True, True, True],\n",
            "        [True, True, True, True]])\n"
          ]
        }
      ]
    },
    {
      "cell_type": "markdown",
      "source": [
        "##running tensors and pytorch objects on the GPUS ( and making faster computations)"
      ],
      "metadata": {
        "id": "onJI6J0hEEje"
      }
    },
    {
      "cell_type": "code",
      "source": [
        "##check for GPU access with PyTorch\n",
        "import torch\n",
        "torch.cuda.is_available()\n"
      ],
      "metadata": {
        "colab": {
          "base_uri": "https://localhost:8080/"
        },
        "id": "Q7lm_dfSCxw6",
        "outputId": "d1166e2b-9869-48e9-c5e0-e924924077dc"
      },
      "execution_count": 64,
      "outputs": [
        {
          "output_type": "execute_result",
          "data": {
            "text/plain": [
              "True"
            ]
          },
          "metadata": {},
          "execution_count": 64
        }
      ]
    },
    {
      "cell_type": "code",
      "source": [
        "#setup device agnostic code (best practice)\n",
        "device = \"cuda\" if torch.cuda.is_available() else \"cpu\"\n",
        "device\n"
      ],
      "metadata": {
        "colab": {
          "base_uri": "https://localhost:8080/",
          "height": 35
        },
        "id": "GIrTFXCJE33o",
        "outputId": "9d7efe6d-a13e-4f91-f03a-f7ca467400c4"
      },
      "execution_count": 65,
      "outputs": [
        {
          "output_type": "execute_result",
          "data": {
            "text/plain": [
              "'cuda'"
            ],
            "application/vnd.google.colaboratory.intrinsic+json": {
              "type": "string"
            }
          },
          "metadata": {},
          "execution_count": 65
        }
      ]
    },
    {
      "cell_type": "code",
      "source": [
        "#count number of devices\n",
        "torch.cuda.device_count()"
      ],
      "metadata": {
        "colab": {
          "base_uri": "https://localhost:8080/"
        },
        "id": "_R5hZRuIFGKB",
        "outputId": "d9eb9049-94c8-4cae-c86d-2b5111b18ba1"
      },
      "execution_count": 66,
      "outputs": [
        {
          "output_type": "execute_result",
          "data": {
            "text/plain": [
              "1"
            ]
          },
          "metadata": {},
          "execution_count": 66
        }
      ]
    },
    {
      "cell_type": "code",
      "source": [
        "#putting tensors (and models) on the GPU (for faster computations)\n",
        "tensor= torch.tensor([1,2,3])\n",
        "print(tensor, tensor.device)\n"
      ],
      "metadata": {
        "colab": {
          "base_uri": "https://localhost:8080/"
        },
        "id": "HYjJL5zWFRT7",
        "outputId": "8ac614cd-8106-4e9a-ff9c-4941c6c23c16"
      },
      "execution_count": 67,
      "outputs": [
        {
          "output_type": "stream",
          "name": "stdout",
          "text": [
            "tensor([1, 2, 3]) cpu\n"
          ]
        }
      ]
    },
    {
      "cell_type": "code",
      "source": [
        "#move tensor to gpu (if available)\n",
        "tensor_on_gpu= tensor.to(device)\n",
        "tensor_on_gpu"
      ],
      "metadata": {
        "colab": {
          "base_uri": "https://localhost:8080/"
        },
        "id": "QYtBFUB4F6aN",
        "outputId": "51024688-55c6-48a7-9933-180aae0717d5"
      },
      "execution_count": 68,
      "outputs": [
        {
          "output_type": "execute_result",
          "data": {
            "text/plain": [
              "tensor([1, 2, 3], device='cuda:0')"
            ]
          },
          "metadata": {},
          "execution_count": 68
        }
      ]
    },
    {
      "cell_type": "code",
      "source": [
        "## moving tensors back to cpu\n",
        "#if tensor is on gpu, can't transform it to numpy\n",
        "tensor_back_on_cpu= tensor_on_gpu.cpu().numpy()\n",
        "tensor_back_on_cpu"
      ],
      "metadata": {
        "colab": {
          "base_uri": "https://localhost:8080/"
        },
        "id": "1CD9XDx6GD_i",
        "outputId": "3a3aa7c7-eb76-4fb5-a73a-c6c418c16408"
      },
      "execution_count": 69,
      "outputs": [
        {
          "output_type": "execute_result",
          "data": {
            "text/plain": [
              "array([1, 2, 3])"
            ]
          },
          "metadata": {},
          "execution_count": 69
        }
      ]
    },
    {
      "cell_type": "code",
      "source": [
        "tensor_on_gpu"
      ],
      "metadata": {
        "colab": {
          "base_uri": "https://localhost:8080/"
        },
        "id": "2zLuHQ2gGiVv",
        "outputId": "5040c67f-af1a-4639-d29d-b2373f3deb35"
      },
      "execution_count": 70,
      "outputs": [
        {
          "output_type": "execute_result",
          "data": {
            "text/plain": [
              "tensor([1, 2, 3], device='cuda:0')"
            ]
          },
          "metadata": {},
          "execution_count": 70
        }
      ]
    },
    {
      "cell_type": "markdown",
      "source": [
        "Exercises for practice:\n"
      ],
      "metadata": {
        "id": "E45LoTk9g_WV"
      }
    },
    {
      "cell_type": "code",
      "source": [
        "##create a random tensor of shape(7,7)\n",
        "import torch\n",
        "tensor1= torch.rand(7,7)\n",
        "tensor1"
      ],
      "metadata": {
        "colab": {
          "base_uri": "https://localhost:8080/"
        },
        "id": "-kh3YN7Gg-RI",
        "outputId": "499514c5-7171-4937-e0ff-b69afe498bda"
      },
      "execution_count": 71,
      "outputs": [
        {
          "output_type": "execute_result",
          "data": {
            "text/plain": [
              "tensor([[0.8694, 0.5677, 0.7411, 0.4294, 0.8854, 0.5739, 0.2666],\n",
              "        [0.6274, 0.2696, 0.4414, 0.2969, 0.8317, 0.1053, 0.2695],\n",
              "        [0.3588, 0.1994, 0.5472, 0.0062, 0.9516, 0.0753, 0.8860],\n",
              "        [0.5832, 0.3376, 0.8090, 0.5779, 0.9040, 0.5547, 0.3423],\n",
              "        [0.6343, 0.3644, 0.7104, 0.9464, 0.7890, 0.2814, 0.7886],\n",
              "        [0.5895, 0.7539, 0.1952, 0.0050, 0.3068, 0.1165, 0.9103],\n",
              "        [0.6440, 0.7071, 0.6581, 0.4913, 0.8913, 0.1447, 0.5315]])"
            ]
          },
          "metadata": {},
          "execution_count": 71
        }
      ]
    },
    {
      "cell_type": "code",
      "source": [
        "#matrix multiplication\n",
        "tensor2= torch.rand(1,7)\n",
        "tensor= tensor1 @ tensor2.T\n",
        "tensor"
      ],
      "metadata": {
        "colab": {
          "base_uri": "https://localhost:8080/"
        },
        "id": "XT0_BaVkhZu2",
        "outputId": "12199fd7-6f43-4d21-9d1e-9483711b985c"
      },
      "execution_count": 72,
      "outputs": [
        {
          "output_type": "execute_result",
          "data": {
            "text/plain": [
              "tensor([[1.9625],\n",
              "        [1.0950],\n",
              "        [0.9967],\n",
              "        [1.8910],\n",
              "        [1.9205],\n",
              "        [1.0674],\n",
              "        [1.6949]])"
            ]
          },
          "metadata": {},
          "execution_count": 72
        }
      ]
    },
    {
      "cell_type": "code",
      "source": [
        "torch.manual_seed(0)\n",
        "tensor1= torch.rand(7,7)\n",
        "torch.manual_seed(RANDOM_SEED)\n",
        "tensor2= torch.rand(1,7)\n",
        "tensor = tensor1 @ tensor2.T\n",
        "tensor, tensor.shape"
      ],
      "metadata": {
        "colab": {
          "base_uri": "https://localhost:8080/"
        },
        "id": "oCe9NdHbi3ZK",
        "outputId": "ed4e75bd-9504-4794-bdf4-97e85d3048f3"
      },
      "execution_count": 73,
      "outputs": [
        {
          "output_type": "execute_result",
          "data": {
            "text/plain": [
              "(tensor([[1.9281],\n",
              "         [1.9982],\n",
              "         [2.1757],\n",
              "         [2.7055],\n",
              "         [1.7855],\n",
              "         [1.9367],\n",
              "         [1.6980]]),\n",
              " torch.Size([7, 1]))"
            ]
          },
          "metadata": {},
          "execution_count": 73
        }
      ]
    },
    {
      "cell_type": "code",
      "source": [
        "#set random seed on GPU\n",
        "torch.cuda.manual_seed(1234)"
      ],
      "metadata": {
        "id": "8yU4JdbwjAOT"
      },
      "execution_count": 74,
      "outputs": []
    },
    {
      "cell_type": "code",
      "source": [
        "#Create two random tensors of shape (2, 3) and send them both to the GPU (you'll need access to a GPU for this).\n",
        "#Set torch.manual_seed(1234) when creating the tensors (this doesn't have to be the GPU random seed)\n",
        "torch.manual_seed(1234)\n",
        "\n",
        "device= \"cuda\" if torch.cuda.is_available() else print(f\"Device = {device}\")\n",
        "tensor_A= torch.rand(2,3).to(device)\n",
        "tensor_B= torch.rand(2,3).to(device)\n",
        "tensor_A, tensor_B\n"
      ],
      "metadata": {
        "colab": {
          "base_uri": "https://localhost:8080/"
        },
        "id": "tNEIU9HqkdzW",
        "outputId": "2c9e51e2-040a-40b1-d293-7c840772e608"
      },
      "execution_count": 75,
      "outputs": [
        {
          "output_type": "execute_result",
          "data": {
            "text/plain": [
              "(tensor([[0.0290, 0.4019, 0.2598],\n",
              "         [0.3666, 0.0583, 0.7006]], device='cuda:0'),\n",
              " tensor([[0.0518, 0.4681, 0.6738],\n",
              "         [0.3315, 0.7837, 0.5631]], device='cuda:0'))"
            ]
          },
          "metadata": {},
          "execution_count": 75
        }
      ]
    },
    {
      "cell_type": "code",
      "source": [
        "#matrix multiplication of the tensors created above\n",
        "\n",
        "tensor= tensor_A @ tensor_B.T\n",
        "tensor_A.shape, tensor_B.shape, tensor"
      ],
      "metadata": {
        "colab": {
          "base_uri": "https://localhost:8080/"
        },
        "id": "5YoUAIl0lkvc",
        "outputId": "10893152-4e74-42c4-9d5e-40b161297fa0"
      },
      "execution_count": 76,
      "outputs": [
        {
          "output_type": "execute_result",
          "data": {
            "text/plain": [
              "(torch.Size([2, 3]),\n",
              " torch.Size([2, 3]),\n",
              " tensor([[0.3647, 0.4709],\n",
              "         [0.5184, 0.5617]], device='cuda:0'))"
            ]
          },
          "metadata": {},
          "execution_count": 76
        }
      ]
    },
    {
      "cell_type": "code",
      "source": [
        "#min max of above output\n",
        "tensor.max(), tensor.min()\n"
      ],
      "metadata": {
        "colab": {
          "base_uri": "https://localhost:8080/"
        },
        "id": "NVChwwSVm-Dl",
        "outputId": "ffda3230-730a-4823-9778-47aea511ba65"
      },
      "execution_count": 77,
      "outputs": [
        {
          "output_type": "execute_result",
          "data": {
            "text/plain": [
              "(tensor(0.5617, device='cuda:0'), tensor(0.3647, device='cuda:0'))"
            ]
          },
          "metadata": {},
          "execution_count": 77
        }
      ]
    },
    {
      "cell_type": "code",
      "source": [
        "#min max index values of above output\n",
        "tensor.argmax(), tensor.argmin()"
      ],
      "metadata": {
        "colab": {
          "base_uri": "https://localhost:8080/"
        },
        "id": "XC_7ExwTnSpx",
        "outputId": "42e93177-a176-409a-e133-8ce73df3930c"
      },
      "execution_count": 78,
      "outputs": [
        {
          "output_type": "execute_result",
          "data": {
            "text/plain": [
              "(tensor(3, device='cuda:0'), tensor(0, device='cuda:0'))"
            ]
          },
          "metadata": {},
          "execution_count": 78
        }
      ]
    },
    {
      "cell_type": "code",
      "source": [
        "#Make a random tensor with shape (1, 1, 1, 10) and then\n",
        "#create a new tensor with all the 1 dimensions removed to be left with a tensor of shape (10).\n",
        "#Set the seed to 7 when you create it and print out the first tensor and it's shape as well as the second tensor and it's shape.\n",
        "torch.manual_seed(7)\n",
        "tensor_a= torch.rand(1,1,1,10)\n",
        "tensor_b= tensor_a.squeeze()\n",
        "tensor_a,tensor_a.shape, tensor_b, tensor_b.shape"
      ],
      "metadata": {
        "colab": {
          "base_uri": "https://localhost:8080/"
        },
        "id": "uF2pjNWWno30",
        "outputId": "ef46a11e-52c1-4136-bc0e-59501d146434"
      },
      "execution_count": 79,
      "outputs": [
        {
          "output_type": "execute_result",
          "data": {
            "text/plain": [
              "(tensor([[[[0.5349, 0.1988, 0.6592, 0.6569, 0.2328, 0.4251, 0.2071, 0.6297,\n",
              "            0.3653, 0.8513]]]]),\n",
              " torch.Size([1, 1, 1, 10]),\n",
              " tensor([0.5349, 0.1988, 0.6592, 0.6569, 0.2328, 0.4251, 0.2071, 0.6297, 0.3653,\n",
              "         0.8513]),\n",
              " torch.Size([10]))"
            ]
          },
          "metadata": {},
          "execution_count": 79
        }
      ]
    }
  ]
}